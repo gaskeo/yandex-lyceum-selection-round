{
 "cells": [
  {
   "cell_type": "markdown",
   "metadata": {
    "id": "W02_CY8HmbPF"
   },
   "source": [
    "# Решение"
   ]
  },
  {
   "cell_type": "markdown",
   "metadata": {
    "id": "FlmEgYwamey5"
   },
   "source": [
    "## 1. Скачать файл по ссылке"
   ]
  },
  {
   "cell_type": "code",
   "execution_count": null,
   "metadata": {
    "colab": {
     "base_uri": "https://localhost:8080/"
    },
    "id": "ZWr2A3U-meQH",
    "outputId": "377acfdc-535a-4e92-f772-706191e868be"
   },
   "outputs": [
    {
     "name": "stdout",
     "output_type": "stream",
     "text": [
      "--2022-02-11 19:21:41--  https://raw.githubusercontent.com/mwaskom/seaborn-data/master/titanic.csv\n",
      "Resolving raw.githubusercontent.com (raw.githubusercontent.com)... 185.199.108.133, 185.199.109.133, 185.199.110.133, ...\n",
      "Connecting to raw.githubusercontent.com (raw.githubusercontent.com)|185.199.108.133|:443... connected.\n",
      "HTTP request sent, awaiting response... 200 OK\n",
      "Length: 57018 (56K) [text/plain]\n",
      "Saving to: ‘titanic.csv.2’\n",
      "\n",
      "titanic.csv.2       100%[===================>]  55.68K  --.-KB/s    in 0.01s   \n",
      "\n",
      "2022-02-11 19:21:41 (4.08 MB/s) - ‘titanic.csv.2’ saved [57018/57018]\n",
      "\n",
      "--2022-02-11 19:21:41--  http://titanic.csv/\n",
      "Resolving titanic.csv (titanic.csv)... failed: Name or service not known.\n",
      "wget: unable to resolve host address ‘titanic.csv’\n",
      "FINISHED --2022-02-11 19:21:41--\n",
      "Total wall clock time: 0.5s\n",
      "Downloaded: 1 files, 56K in 0.01s (4.08 MB/s)\n"
     ]
    }
   ],
   "source": [
    "!wget 'https://raw.githubusercontent.com/mwaskom/seaborn-data/master/titanic.csv' 'titanic.csv'"
   ]
  },
  {
   "cell_type": "markdown",
   "metadata": {
    "id": "5I9xQAoeqw1S"
   },
   "source": [
    "## 2. Изучение данных"
   ]
  },
  {
   "cell_type": "markdown",
   "source": [
    "### Информация"
   ],
   "metadata": {
    "id": "vP4kQGvSTFVZ"
   }
  },
  {
   "cell_type": "code",
   "execution_count": 1,
   "metadata": {
    "id": "QT8aaifpqtiG"
   },
   "outputs": [
    {
     "name": "stdout",
     "output_type": "stream",
     "text": [
      "<class 'pandas.core.frame.DataFrame'>\n",
      "RangeIndex: 891 entries, 0 to 890\n",
      "Data columns (total 15 columns):\n",
      " #   Column       Non-Null Count  Dtype  \n",
      "---  ------       --------------  -----  \n",
      " 0   survived     891 non-null    int64  \n",
      " 1   pclass       891 non-null    int64  \n",
      " 2   sex          891 non-null    object \n",
      " 3   age          714 non-null    float64\n",
      " 4   sibsp        891 non-null    int64  \n",
      " 5   parch        891 non-null    int64  \n",
      " 6   fare         891 non-null    float64\n",
      " 7   embarked     889 non-null    object \n",
      " 8   class        891 non-null    object \n",
      " 9   who          891 non-null    object \n",
      " 10  adult_male   891 non-null    bool   \n",
      " 11  deck         203 non-null    object \n",
      " 12  embark_town  889 non-null    object \n",
      " 13  alive        891 non-null    object \n",
      " 14  alone        891 non-null    bool   \n",
      "dtypes: bool(2), float64(2), int64(4), object(7)\n",
      "memory usage: 92.4+ KB\n"
     ]
    }
   ],
   "source": [
    "import pandas as pd\n",
    "\n",
    "df = pd.read_csv('/content/titanic.csv')\n",
    "df.info()"
   ]
  },
  {
   "cell_type": "markdown",
   "source": [
    "#### Определение переменных для дальнейшей работы"
   ],
   "metadata": {
    "id": "2E_LmKOQU58H"
   }
  },
  {
   "cell_type": "code",
   "source": [
    "# columns\n",
    "survived = 'survived'\n",
    "pclass = 'pclass'\n",
    "sex = 'sex'\n",
    "age = 'age'\n",
    "sibsp = 'sibsp'\n",
    "parch = 'parch'\n",
    "fare = 'fare'\n",
    "embarked = 'embarked'\n",
    "class_ = 'class'\n",
    "who = 'who'\n",
    "adult_male = 'adult_male'\n",
    "deck = 'deck'\n",
    "embark_town = 'embark_town'\n",
    "alive = 'alive'\n",
    "alone = 'alone'\n",
    "\n",
    "# values\n",
    "unknown = 'Unknown'\n",
    "u = 'U'"
   ],
   "metadata": {
    "id": "GL2Fafc6Uz_S"
   },
   "execution_count": 3,
   "outputs": []
  },
  {
   "cell_type": "markdown",
   "metadata": {
    "id": "pI1xhv4GrIaM"
   },
   "source": [
    "### Пропуски:\n",
    "* возраст (age, 177 пропусков)\n",
    "* порт посадки (embarked, 2 пропуска)\n",
    "* палуба (deck, 688 пропусков)\n",
    "* город посадки (embark_town, 2 пропуска)\n",
    "\n",
    "### Заполнение пропусков\n",
    "#### Возраст \n",
    "Принято решение написать небольшую модель,\n",
    "обучить ее на заполненных данных\n",
    "и предугадать примерный возраст в пропущенных ячейках.\n",
    "\n",
    "#### Порт посадки \n",
    "Все пропуски = `U` (unknown).\n",
    "\n",
    "#### Город посадки\n",
    "Все пропуски = `Unknown`.\n",
    "\n",
    "#### Палуба\n",
    "Все пропуски = `U`."
   ]
  },
  {
   "cell_type": "markdown",
   "metadata": {
    "id": "xj_eZw4xLOMi"
   },
   "source": [
    "#### Пропуски посадки"
   ]
  },
  {
   "cell_type": "code",
   "execution_count": 4,
   "metadata": {
    "id": "YzvqgLyowsSe",
    "pycharm": {
     "name": "#%%\n"
    }
   },
   "outputs": [],
   "source": [
    "def fill_na_embark(data_frame: pd.DataFrame) -> pd.DataFrame:\n",
    "    data_frame[embarked] = data_frame[embarked].fillna(u)\n",
    "    data_frame[embark_town] = data_frame[embark_town].fillna(unknown)\n",
    "\n",
    "    return data_frame"
   ]
  },
  {
   "cell_type": "code",
   "execution_count": 5,
   "metadata": {
    "id": "W8Us5STAJlPI"
   },
   "outputs": [],
   "source": [
    "def for_print_embark(data_frame: pd.DataFrame, column_offset: int = 4) -> pd.DataFrame:\n",
    "    \"\"\"\n",
    "    Функция для отображения информации \n",
    "    об уникальных значениях в столбцах 'embarked' и 'embark_town'\n",
    "    \"\"\"\n",
    "    for_print = [('Порты:', 'Города:')]\n",
    "    max_len_port = len(for_print[0][0])\n",
    "    output_str = ''\n",
    "\n",
    "    unique_ports, unique_towns = data_frame[embarked].unique(), data_frame[embark_town].unique()\n",
    "    \n",
    "    for index in range(max(len(unique_ports), len(unique_towns))):\n",
    "        temp_port = unique_ports[index] if index < len(unique_ports) else ''\n",
    "        temp_town = unique_towns[index] if index < len(unique_towns) else ''\n",
    "\n",
    "        max_len_port = max(max_len_port, len(temp_port))\n",
    "\n",
    "        for_print.append((temp_port, temp_town))\n",
    "\n",
    "    for port, town in for_print: \n",
    "        output_str += f'{port}{\" \" * (max_len_port + column_offset - len(port))}{town}\\n'\n",
    "\n",
    "    return output_str"
   ]
  },
  {
   "cell_type": "code",
   "execution_count": 6,
   "metadata": {
    "colab": {
     "base_uri": "https://localhost:8080/"
    },
    "id": "_26PE-Zh633A",
    "outputId": "999a2bbb-b909-4dcb-c954-ace4bd89568d"
   },
   "outputs": [
    {
     "name": "stdout",
     "output_type": "stream",
     "text": [
      "Порты:    Города:\n",
      "S         Southampton\n",
      "C         Cherbourg\n",
      "Q         Queenstown\n",
      "U         Unknown\n",
      "\n"
     ]
    }
   ],
   "source": [
    "df = fill_na_embark(df)\n",
    "print(for_print_embark(df))"
   ]
  },
  {
   "cell_type": "markdown",
   "metadata": {
    "id": "ckswBfxILhOS"
   },
   "source": [
    "#### Пропуски возраста"
   ]
  },
  {
   "cell_type": "code",
   "execution_count": 22,
   "metadata": {
    "id": "AHhu8-gKLgTW"
   },
   "outputs": [],
   "source": [
    "from tensorflow.keras.models import Model\n",
    "from tensorflow.keras.layers import Dense, Input\n",
    "\n",
    "from tensorflow.keras.optimizers import Adam\n",
    "\n",
    "from tensorflow.keras.losses import mse\n",
    "from tensorflow.keras.metrics import mae\n",
    "from tensorflow.keras.activations import relu, sigmoid\n",
    "\n",
    "from sklearn.model_selection import train_test_split\n",
    "import numpy as np\n",
    "import matplotlib.pyplot as plt\n",
    "\n",
    "from typing import Iterable"
   ]
  },
  {
   "cell_type": "code",
   "execution_count": 8,
   "metadata": {
    "id": "jW0OqdyZP6Zc"
   },
   "outputs": [],
   "source": [
    "def prepare_data(data_frame): \n",
    "    data_frame_copy = data_frame.copy()\n",
    "    data_frame_copy[pclass] = data_frame_copy[pclass].apply(lambda text_pclass: P_CLASSES[text_pclass])\n",
    "    data_frame_copy[sex] = data_frame_copy[sex].apply(lambda text_sex: int(text_sex == 'female'))\n",
    "    data_frame_copy[fare] *= FARE_NORMALIZER\n",
    "    data_frame_copy[sibsp] *= SIBSP_NORMALIZER\n",
    "    data_frame_copy[parch] *= PARCH_NORMALIZER\n",
    "    data_frame_copy[class_] = data_frame_copy[class_].apply(lambda text_class: CLASSES[text_class])\n",
    "    data_frame_copy[alive] = data_frame_copy[alive].apply(lambda text_alive: int(text_alive == 'yes'))\n",
    "    data_frame_copy[alone] = data_frame_copy[alone].apply(int)\n",
    "\n",
    "    data_frame_copy[age] *= AGE_NORMALIZER\n",
    "\n",
    "    return data_frame_copy"
   ]
  },
  {
   "cell_type": "code",
   "execution_count": 9,
   "metadata": {
    "id": "6Qw6lhChM2zc"
   },
   "outputs": [],
   "source": [
    "X_COLUMNS = [pclass, sex, sibsp, parch, fare, class_, alive, alone]\n",
    "Y_COLUMNS = [age]\n",
    "AGE_NORMALIZER = 0.01\n",
    "FARE_NORMALIZER = 0.001\n",
    "SIBSP_NORMALIZER = 0.1\n",
    "PARCH_NORMALIZER = 0.1\n",
    "CLASSES = {'First': 0.1, 'Second': 0.5, 'Third': 0.9}\n",
    "P_CLASSES = {1: 0.1, 2: 0.5, 3: 0.9}\n",
    "\n",
    "\n",
    "data = df[df.loc[:, age].notna()]\n",
    "prepared_data = prepare_data(data)\n",
    "x_data, y_data = prepared_data[X_COLUMNS].to_numpy(), prepared_data[Y_COLUMNS].to_numpy()\n",
    "x_train, x_test, y_train, y_test = train_test_split(x_data, y_data, train_size=0.9)"
   ]
  },
  {
   "cell_type": "code",
   "execution_count": 14,
   "metadata": {
    "id": "jEU9zASB_p1N"
   },
   "outputs": [],
   "source": [
    "RANDOM_NUMBER_VARIANT = 1\n",
    "RANDOM_CHOICE_VARIANT = 2\n",
    "\n",
    "\n",
    "def data_augmentation(x: np.array, y: np.array, count: int = 1, x_transformations: Iterable = tuple()):\n",
    "    \"\"\"\n",
    "    Функция для аугментации данных. !Возвращает только новые данные\n",
    "    x: входные данные\n",
    "    y: выходные данные\n",
    "    count: количество новых данных\n",
    "    x_transformations: список с инструкциями для преобразований,\n",
    "        где инструкции могут быть двух видов:\n",
    "        1. {\n",
    "            't_variant': 1       вид инструкции, 1 - выбор случайного числа из диапазона\n",
    "            'index': int         индекс столбца, нод которым надо произвести данную инструкцию\n",
    "            'min': float         минимальное возможное значение столбца\n",
    "            'max': float         максимальное возможное значение для столбца\n",
    "            'max_plus': float    какое максимальное отклонение в большую сторону\n",
    "                                 может быть для значения x,\n",
    "                                 то есть задает диапазон [x, x + max_plus] для нового значения\n",
    "            'max_minus': float   аналогично 'max_plus', но задает [x - max_minus, x]\n",
    "                                 * 'max_minus' и 'max_plus' задают границы для определенного значения x,\n",
    "                                 * а 'max' и 'min' задают глобальные границы, за которые невозможно выйти ни одному x\n",
    "            'round': int         до какого знака после запятой нужно округлить\n",
    "        }\n",
    "        2. {\n",
    "            't_variant': 2      вид инструкции, 2 - выбор из набора вариантов\n",
    "            'index': int\n",
    "            'choice': list      массив из вариантов новых значений. если x нет в массиве, он не меняется\n",
    "            'max_plus': int     на сколько индексов можно уйти в правую сторону от значения x,\n",
    "                                необходимо для отсортированных массивов, к примеру когда есть несколько классов\n",
    "                                и изменять данные нужно только переходом в соседние классы\n",
    "            'max_minus': int    аналогично 'max_plus', только в левую сторону\n",
    "                                * для того, чтобы выбор был из всего массива,\n",
    "                                * 'max_plus' и 'max_minus' следует установить такими,\n",
    "                                * чтобы они были больше длины массива 'choice'\n",
    "        }\n",
    "    \"\"\"\n",
    "    new_x, new_y = [0] * count, [0] * count\n",
    "    for new_index in range(count):\n",
    "        # выбираем случайный элемент из массива\n",
    "        old_index = np.random.choice(len(x), 1)\n",
    "        new_x_elem = np.array(x[old_index], copy=True)[0]\n",
    "\n",
    "        # применяем изменения\n",
    "        for transform in x_transformations:\n",
    "            if transform['t_variant'] == RANDOM_NUMBER_VARIANT:\n",
    "                minimum = max(transform['min'], new_x_elem[transform['index']] - transform['max_minus'])\n",
    "                maximum = min(transform['max'], new_x_elem[transform['index']] + transform['max_plus'])\n",
    "                new_value = np.random.uniform(minimum, maximum)\n",
    "                new_x_elem[transform['index']] = round(new_value, transform['round'])\n",
    "\n",
    "            elif transform['t_variant'] == RANDOM_CHOICE_VARIANT:\n",
    "                # если нет элемента в массиве с новыми выборами, пропускаем\n",
    "                if new_x_elem[transform['index']] not in transform['choice']:\n",
    "                    continue\n",
    "\n",
    "                index_before_transformation = transform['choice'].index(new_x_elem[transform['index']])\n",
    "                minimum_index = max(0, index_before_transformation - transform['max_minus'])\n",
    "                maximum_index = min(len(transform['choice']),\n",
    "                                    index_before_transformation + transform['max_plus'] + 1)\n",
    "\n",
    "                choice_from = transform['choice'][minimum_index:maximum_index]\n",
    "                new_value = np.random.choice(choice_from)\n",
    "                new_x_elem[transform['index']] = new_value\n",
    "                \n",
    "        new_x[new_index] = new_x_elem\n",
    "        new_y[new_index] = y[old_index]\n",
    "    return np.array(new_x), np.array(new_y)[:, 0]  # в y создается лишняя размерность, убираем ее\n"
   ]
  },
  {
   "cell_type": "code",
   "execution_count": 16,
   "metadata": {
    "id": "uMz5ycu0BhHF"
   },
   "outputs": [],
   "source": [
    "new_x_train, new_y_train = data_augmentation(\n",
    "    x_train, y_train, count=300,\n",
    "    x_transformations=[\n",
    "        {  # sibsp\n",
    "            'index': 2,\n",
    "            't_variant': RANDOM_CHOICE_VARIANT,\n",
    "            'choice': [0.1 * i for i in range(8)],\n",
    "            'max_plus': 1,\n",
    "            'max_minus': 1,\n",
    "        },\n",
    "        {  # parch\n",
    "            'index': 3,\n",
    "            't_variant': RANDOM_CHOICE_VARIANT,\n",
    "            'choice': [0.1 * i for i in range(8)],\n",
    "            'max_plus': 0,\n",
    "            'max_minus': 1,\n",
    "        },\n",
    "        {  # fare\n",
    "            'index': 4,\n",
    "            't_variant': RANDOM_NUMBER_VARIANT,\n",
    "            'min': 0,\n",
    "            'max': 1,\n",
    "            'max_plus': 0.010,\n",
    "            'max_minus': 0.010,\n",
    "            'round': 7\n",
    "        }\n",
    "    ])\n"
   ]
  },
  {
   "cell_type": "code",
   "execution_count": 17,
   "metadata": {
    "id": "bpUkiUoQgYos"
   },
   "outputs": [],
   "source": [
    "total_x_train, total_y_train = (\n",
    "    np.concatenate((x_train, new_x_train)), \n",
    "    np.concatenate((y_train, new_y_train))\n",
    ")"
   ]
  },
  {
   "cell_type": "code",
   "execution_count": 19,
   "metadata": {
    "colab": {
     "base_uri": "https://localhost:8080/"
    },
    "id": "Dic0sroF3Y3X",
    "outputId": "b9358234-b006-449f-fceb-5d1caff4ff5e"
   },
   "outputs": [
    {
     "name": "stdout",
     "output_type": "stream",
     "text": [
      "Всего данных для обучения(942, 8)\n"
     ]
    }
   ],
   "source": [
    "print(f'Всего данных для обучения{total_x_train.shape}')"
   ]
  },
  {
   "cell_type": "code",
   "execution_count": 21,
   "metadata": {
    "id": "F9-MiMifki8e"
   },
   "outputs": [],
   "source": [
    "def create_model():\n",
    "    input_layer = Input(len(X_COLUMNS))\n",
    "    layers_values = ((16, relu), \n",
    "                     (256, relu), \n",
    "                     (512, relu),\n",
    "                     (768, relu),\n",
    "                     (768, relu),\n",
    "                     (768, relu),\n",
    "                     (1024, relu),\n",
    "                     (4096, relu),\n",
    "                     (4096, relu),\n",
    "                     (1024, relu),\n",
    "                     (512, relu),\n",
    "                     (256, relu),\n",
    "                     (128, relu),\n",
    "                     (128, relu), \n",
    "                     (56, relu), \n",
    "                     (len(Y_COLUMNS), sigmoid))\n",
    "    last_layer = Dense(layers_values[0][0], layers_values[0][1])(input_layer)\n",
    "    for units, activation in layers_values[1:]:\n",
    "        last_layer = Dense(units, activation)(last_layer)\n",
    "\n",
    "    return Model(input_layer, last_layer)"
   ]
  },
  {
   "cell_type": "code",
   "execution_count": 23,
   "metadata": {
    "id": "JKJ8lWUFnfK-"
   },
   "outputs": [],
   "source": [
    "model = create_model()\n",
    "model.compile(optimizer=Adam(), loss=mse, metrics=[mae])"
   ]
  },
  {
   "cell_type": "code",
   "execution_count": null,
   "metadata": {
    "colab": {
     "background_save": true,
     "base_uri": "https://localhost:8080/"
    },
    "id": "76ji_XArn6Az",
    "outputId": "2fcb3f9e-6151-4057-d43f-c96357b609ae"
   },
   "outputs": [
    {
     "name": "stdout",
     "output_type": "stream",
     "text": [
      "Epoch 1/600\n",
      "236/236 [==============================] - 7s 22ms/step - loss: 0.0225 - mean_absolute_error: 0.1193\n",
      "Epoch 2/600\n",
      "236/236 [==============================] - 5s 22ms/step - loss: 0.0193 - mean_absolute_error: 0.1116\n",
      "Epoch 3/600\n",
      "236/236 [==============================] - 6s 24ms/step - loss: 0.0184 - mean_absolute_error: 0.1087\n",
      "Epoch 4/600\n",
      "236/236 [==============================] - 6s 26ms/step - loss: 0.0189 - mean_absolute_error: 0.1098\n",
      "Epoch 5/600\n",
      "236/236 [==============================] - 4s 17ms/step - loss: 0.0175 - mean_absolute_error: 0.1061\n",
      "...\n",
      "Epoch 595/600\n",
      "236/236 [==============================] - 4s 18ms/step - loss: 0.0105 - mean_absolute_error: 0.0781\n",
      "Epoch 596/600\n",
      "236/236 [==============================] - 4s 18ms/step - loss: 0.0106 - mean_absolute_error: 0.0784\n",
      "Epoch 597/600\n",
      "236/236 [==============================] - 4s 18ms/step - loss: 0.0107 - mean_absolute_error: 0.0788\n",
      "Epoch 598/600\n",
      "236/236 [==============================] - 4s 18ms/step - loss: 0.0104 - mean_absolute_error: 0.0775\n",
      "Epoch 599/600\n",
      "236/236 [==============================] - 4s 18ms/step - loss: 0.0106 - mean_absolute_error: 0.0780\n",
      "Epoch 600/600\n",
      "236/236 [==============================] - 4s 18ms/step - loss: 0.0102 - mean_absolute_error: 0.0772\n"
     ]
    }
   ],
   "source": [
    "BATCH_SIZE = 4\n",
    "EPOCHS = 600\n",
    "history = model.fit(total_x_train, total_y_train, batch_size=BATCH_SIZE, epochs=EPOCHS).history\n",
    "# убрал длинный вывод данных, оставил только 5 первых и последних эпох"
   ]
  },
  {
   "cell_type": "code",
   "execution_count": null,
   "metadata": {
    "id": "iOzgj7zKsR03",
    "colab": {
     "base_uri": "https://localhost:8080/",
     "height": 351
    },
    "outputId": "cd9d7c79-2077-456d-c840-84b878db501d"
   },
   "outputs": [
    {
     "output_type": "execute_result",
     "data": {
      "text/plain": [
       "Text(0, 0.5, 'Точность, %')"
      ]
     },
     "metadata": {},
     "execution_count": 29
    },
    {
     "output_type": "display_data",
     "data": {
      "image/png": "[encoded data removed]",
      "text/plain": [
       "<Figure size 1440x360 with 2 Axes>"
      ]
     },
     "metadata": {
      "needs_background": "light"
     }
    }
   ],
   "source": [
    "fig, (losses_ax, metrics_ax) = plt.subplots(1, 2)\n",
    "fig.set_size_inches(20, 5)\n",
    "\n",
    "losses_ax.plot([x * 100 for x in history.get('loss')])\n",
    "losses_ax.set_xlabel('Эпохи')\n",
    "losses_ax.set_ylabel('Потери, %')\n",
    "\n",
    "metrics_ax.plot([(1 - x) * 100 for x in history.get('mean_absolute_error')])\n",
    "metrics_ax.set_xlabel('Эпохи')\n",
    "metrics_ax.set_ylabel('Точность, %')"
   ]
  },
  {
   "cell_type": "code",
   "execution_count": null,
   "metadata": {
    "id": "FRIaxaH25-q-",
    "colab": {
     "base_uri": "https://localhost:8080/"
    },
    "outputId": "de308f4f-b679-4aae-96fa-edf68efd1b50"
   },
   "outputs": [
    {
     "output_type": "stream",
     "name": "stdout",
     "text": [
      "3/3 [==============================] - 0s 10ms/step - loss: 0.0111 - mean_absolute_error: 0.0775\n"
     ]
    },
    {
     "output_type": "execute_result",
     "data": {
      "text/plain": [
       "7.7493540942668915"
      ]
     },
     "metadata": {},
     "execution_count": 31
    }
   ],
   "source": [
    "# средняя ошибка на тестовых данных (в годах)\n",
    "model.evaluate(x_test, y_test)[1] / AGE_NORMALIZER"
   ]
  },
  {
   "cell_type": "code",
   "execution_count": null,
   "metadata": {
    "id": "Q0UgprJv_Osn",
    "colab": {
     "base_uri": "https://localhost:8080/",
     "height": 352
    },
    "outputId": "b87befb3-3d46-412d-eb51-f0c74c3d3012"
   },
   "outputs": [
    {
     "output_type": "execute_result",
     "data": {
      "text/plain": [
       "<matplotlib.legend.Legend at 0x7f3c8ab30850>"
      ]
     },
     "metadata": {},
     "execution_count": 35
    },
    {
     "output_type": "display_data",
     "data": {
      "image/png": "[encoded data removed]",
      "text/plain": [
       "<Figure size 720x360 with 1 Axes>"
      ]
     },
     "metadata": {
      "needs_background": "light"
     }
    }
   ],
   "source": [
    "fig, ax = plt.subplots(1, 1)\n",
    "fig.set_size_inches(10, 5)\n",
    "\n",
    "predicts = model.predict(x_test)\n",
    "\n",
    "ax.axhline(0, color='#ccc')\n",
    "ax.plot(np.absolute(predicts / AGE_NORMALIZER - y_test / AGE_NORMALIZER), label='Разница между предугаданными и реальными возрастами', linewidth=0, markersize=6, marker='o')\n",
    "\n",
    "ax.set_xlabel('Люди')\n",
    "ax.set_ylabel('Разница')\n",
    "ax.legend()"
   ]
  },
  {
   "cell_type": "markdown",
   "source": [
    "##### Сохранение модели"
   ],
   "metadata": {
    "id": "QXi3p6XaBxzp"
   }
  },
  {
   "cell_type": "code",
   "source": [
    "from google.colab import drive\n",
    "drive.mount('/content/drive')"
   ],
   "metadata": {
    "id": "2kBr4_WRZYtQ"
   },
   "execution_count": null,
   "outputs": []
  },
  {
   "cell_type": "code",
   "source": [
    "!mkdir /content/drive/MyDrive/yandex-lyceum-selection-round\n",
    "!mkdir /content/drive/MyDrive/yandex-lyceum-selection-round/models"
   ],
   "metadata": {
    "id": "01NRwRR3aDXu"
   },
   "execution_count": null,
   "outputs": []
  },
  {
   "cell_type": "code",
   "source": [
    "model.save('/content/drive/MyDrive/yandex-lyceum-selection-round/models/age-model')\n"
   ],
   "metadata": {
    "colab": {
     "base_uri": "https://localhost:8080/"
    },
    "id": "ztySeAz3Zn3R",
    "outputId": "6c8d9898-c317-4032-ff20-c06e13011b24"
   },
   "execution_count": null,
   "outputs": [
    {
     "output_type": "stream",
     "name": "stdout",
     "text": [
      "INFO:tensorflow:Assets written to: /content/drive/MyDrive/yandex-lyceum-selection-round/models/age-model/assets\n"
     ]
    }
   ]
  },
  {
   "cell_type": "code",
   "source": [
    "model.save('/content/drive/MyDrive/yandex-lyceum-selection-round/models/age-model.h5')"
   ],
   "metadata": {
    "id": "iu39kDBmai0i"
   },
   "execution_count": null,
   "outputs": []
  }
 ],
 "metadata": {
  "accelerator": "GPU",
  "colab": {
   "collapsed_sections": [
    "FlmEgYwamey5",
    "vP4kQGvSTFVZ",
    "QXi3p6XaBxzp"
   ],
   "name": "yandex-lyceum-selection-round.ipynb",
   "provenance": [],
   "authorship_tag": "ABX9TyPGBBirT/5M1dvMOfx3cm/s"
  },
  "kernelspec": {
   "name": "python3",
   "language": "python",
   "display_name": "Python 3 (ipykernel)"
  },
  "language_info": {
   "name": "python"
  }
 },
 "nbformat": 4,
 "nbformat_minor": 0
}