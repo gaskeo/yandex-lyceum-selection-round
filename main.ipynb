{
  "cells": [
    {
      "cell_type": "markdown",
      "metadata": {
        "id": "W02_CY8HmbPF"
      },
      "source": [
        "# Решение"
      ]
    },
    {
      "cell_type": "markdown",
      "metadata": {
        "id": "FlmEgYwamey5"
      },
      "source": [
        "## 1. Скачать файл по ссылке"
      ]
    },
    {
      "cell_type": "code",
      "execution_count": 2,
      "metadata": {
        "colab": {
          "base_uri": "https://localhost:8080/"
        },
        "id": "ZWr2A3U-meQH",
        "outputId": "221403e8-d6a0-477f-86fe-3f1bd81baea3"
      },
      "outputs": [
        {
          "output_type": "stream",
          "name": "stdout",
          "text": [
            "--2022-02-12 18:23:38--  https://raw.githubusercontent.com/mwaskom/seaborn-data/master/titanic.csv\n",
            "Resolving raw.githubusercontent.com (raw.githubusercontent.com)... 185.199.108.133, 185.199.109.133, 185.199.110.133, ...\n",
            "Connecting to raw.githubusercontent.com (raw.githubusercontent.com)|185.199.108.133|:443... connected.\n",
            "HTTP request sent, awaiting response... 200 OK\n",
            "Length: 57018 (56K) [text/plain]\n",
            "Saving to: ‘titanic.csv’\n",
            "\n",
            "\rtitanic.csv           0%[                    ]       0  --.-KB/s               \rtitanic.csv         100%[===================>]  55.68K  --.-KB/s    in 0.01s   \n",
            "\n",
            "2022-02-12 18:23:38 (5.43 MB/s) - ‘titanic.csv’ saved [57018/57018]\n",
            "\n",
            "--2022-02-12 18:23:38--  http://titanic.csv/\n",
            "Resolving titanic.csv (titanic.csv)... failed: Name or service not known.\n",
            "wget: unable to resolve host address ‘titanic.csv’\n",
            "FINISHED --2022-02-12 18:23:38--\n",
            "Total wall clock time: 0.2s\n",
            "Downloaded: 1 files, 56K in 0.01s (5.43 MB/s)\n"
          ]
        }
      ],
      "source": [
        "!wget 'https://raw.githubusercontent.com/mwaskom/seaborn-data/master/titanic.csv' 'titanic.csv'"
      ]
    },
    {
      "cell_type": "markdown",
      "metadata": {
        "id": "5I9xQAoeqw1S"
      },
      "source": [
        "## 2. Изучение данных"
      ]
    },
    {
      "cell_type": "markdown",
      "source": [
        "### Информация"
      ],
      "metadata": {
        "id": "vP4kQGvSTFVZ"
      }
    },
    {
      "cell_type": "code",
      "execution_count": 3,
      "metadata": {
        "id": "QT8aaifpqtiG",
        "outputId": "e271c010-0be0-4ae2-8ceb-6f0003840752",
        "colab": {
          "base_uri": "https://localhost:8080/"
        }
      },
      "outputs": [
        {
          "output_type": "stream",
          "name": "stdout",
          "text": [
            "<class 'pandas.core.frame.DataFrame'>\n",
            "RangeIndex: 891 entries, 0 to 890\n",
            "Data columns (total 15 columns):\n",
            " #   Column       Non-Null Count  Dtype  \n",
            "---  ------       --------------  -----  \n",
            " 0   survived     891 non-null    int64  \n",
            " 1   pclass       891 non-null    int64  \n",
            " 2   sex          891 non-null    object \n",
            " 3   age          714 non-null    float64\n",
            " 4   sibsp        891 non-null    int64  \n",
            " 5   parch        891 non-null    int64  \n",
            " 6   fare         891 non-null    float64\n",
            " 7   embarked     889 non-null    object \n",
            " 8   class        891 non-null    object \n",
            " 9   who          891 non-null    object \n",
            " 10  adult_male   891 non-null    bool   \n",
            " 11  deck         203 non-null    object \n",
            " 12  embark_town  889 non-null    object \n",
            " 13  alive        891 non-null    object \n",
            " 14  alone        891 non-null    bool   \n",
            "dtypes: bool(2), float64(2), int64(4), object(7)\n",
            "memory usage: 92.4+ KB\n"
          ]
        }
      ],
      "source": [
        "import pandas as pd\n",
        "\n",
        "df = pd.read_csv('/content/titanic.csv')\n",
        "df.info()"
      ]
    },
    {
      "cell_type": "markdown",
      "source": [
        "#### Определение переменных для дальнейшей работы"
      ],
      "metadata": {
        "id": "2E_LmKOQU58H"
      }
    },
    {
      "cell_type": "code",
      "source": [
        "# columns\n",
        "survived = 'survived'\n",
        "pclass = 'pclass'\n",
        "sex = 'sex'\n",
        "age = 'age'\n",
        "sibsp = 'sibsp'\n",
        "parch = 'parch'\n",
        "fare = 'fare'\n",
        "embarked = 'embarked'\n",
        "class_ = 'class'\n",
        "who = 'who'\n",
        "adult_male = 'adult_male'\n",
        "deck = 'deck'\n",
        "embark_town = 'embark_town'\n",
        "alive = 'alive'\n",
        "alone = 'alone'\n",
        "\n",
        "# values\n",
        "unknown = 'Unknown'\n",
        "u = 'U'"
      ],
      "metadata": {
        "id": "GL2Fafc6Uz_S"
      },
      "execution_count": 4,
      "outputs": []
    },
    {
      "cell_type": "markdown",
      "metadata": {
        "id": "pI1xhv4GrIaM"
      },
      "source": [
        "### Пропуски\n",
        "* возраст (`age`, 177 пропусков)\n",
        "* порт посадки (`embarked`, 2 пропуска)\n",
        "* палуба (`deck`, 688 пропусков)\n",
        "* город посадки (`embark_town`, 2 пропуска)\n",
        "\n",
        "### Заполнение пропусков\n",
        "#### Возраст \n",
        "Принято решение написать небольшую модель,\n",
        "обучить ее на заполненных данных\n",
        "и предугадать примерный возраст в пропущенных ячейках.\n",
        "\n",
        "#### Порт посадки \n",
        "Все пропуски = `U` (unknown).\n",
        "\n",
        "#### Город посадки\n",
        "Все пропуски = `Unknown`.\n",
        "\n",
        "#### Палуба\n",
        "Все пропуски = `U`."
      ]
    },
    {
      "cell_type": "markdown",
      "metadata": {
        "id": "xj_eZw4xLOMi"
      },
      "source": [
        "#### Пропуски посадки"
      ]
    },
    {
      "cell_type": "code",
      "execution_count": 5,
      "metadata": {
        "id": "YzvqgLyowsSe",
        "pycharm": {
          "name": "#%%\n"
        }
      },
      "outputs": [],
      "source": [
        "def fill_na_embark(data_frame: pd.DataFrame) -> pd.DataFrame:\n",
        "    data_frame[embarked] = data_frame[embarked].fillna(u)\n",
        "    data_frame[embark_town] = data_frame[embark_town].fillna(unknown)\n",
        "\n",
        "    return data_frame"
      ]
    },
    {
      "cell_type": "code",
      "execution_count": 6,
      "metadata": {
        "id": "W8Us5STAJlPI"
      },
      "outputs": [],
      "source": [
        "def for_print_embark(data_frame: pd.DataFrame, column_offset: int = 4) -> pd.DataFrame:\n",
        "    \"\"\"\n",
        "    Функция для отображения информации \n",
        "    об уникальных значениях в столбцах 'embarked' и 'embark_town'\n",
        "    \"\"\"\n",
        "    for_print = [('Порты:', 'Города:')]\n",
        "    max_len_port = len(for_print[0][0])\n",
        "    output_str = ''\n",
        "\n",
        "    unique_ports, unique_towns = data_frame[embarked].unique(), data_frame[embark_town].unique()\n",
        "    \n",
        "    for index in range(max(len(unique_ports), len(unique_towns))):\n",
        "        temp_port = unique_ports[index] if index < len(unique_ports) else ''\n",
        "        temp_town = unique_towns[index] if index < len(unique_towns) else ''\n",
        "\n",
        "        max_len_port = max(max_len_port, len(temp_port))\n",
        "\n",
        "        for_print.append((temp_port, temp_town))\n",
        "\n",
        "    for port, town in for_print: \n",
        "        output_str += f'{port}{\" \" * (max_len_port + column_offset - len(port))}{town}\\n'\n",
        "\n",
        "    return output_str"
      ]
    },
    {
      "cell_type": "code",
      "execution_count": 7,
      "metadata": {
        "colab": {
          "base_uri": "https://localhost:8080/"
        },
        "id": "_26PE-Zh633A",
        "outputId": "75c94b60-96e2-4906-d354-75e57494fbe3"
      },
      "outputs": [
        {
          "output_type": "stream",
          "name": "stdout",
          "text": [
            "Порты:    Города:\n",
            "S         Southampton\n",
            "C         Cherbourg\n",
            "Q         Queenstown\n",
            "U         Unknown\n",
            "\n"
          ]
        }
      ],
      "source": [
        "df = fill_na_embark(df)\n",
        "print(for_print_embark(df))"
      ]
    },
    {
      "cell_type": "markdown",
      "metadata": {
        "id": "ckswBfxILhOS"
      },
      "source": [
        "#### Пропуски возраста"
      ]
    },
    {
      "cell_type": "markdown",
      "source": [
        "##### Подготовка данных"
      ],
      "metadata": {
        "id": "kGDHBZ_fCBP3"
      }
    },
    {
      "cell_type": "code",
      "execution_count": 8,
      "metadata": {
        "id": "AHhu8-gKLgTW"
      },
      "outputs": [],
      "source": [
        "from tensorflow.keras.models import Model\n",
        "from tensorflow.keras.layers import Dense, Input\n",
        "\n",
        "from tensorflow.keras.optimizers import Adam\n",
        "\n",
        "from tensorflow.keras.losses import mse\n",
        "from tensorflow.keras.metrics import mae\n",
        "from tensorflow.keras.activations import relu, sigmoid\n",
        "\n",
        "from sklearn.model_selection import train_test_split\n",
        "import numpy as np\n",
        "import matplotlib.pyplot as plt\n",
        "\n",
        "from typing import Iterable"
      ]
    },
    {
      "cell_type": "code",
      "execution_count": 9,
      "metadata": {
        "id": "jW0OqdyZP6Zc"
      },
      "outputs": [],
      "source": [
        "def prepare_data(data_frame): \n",
        "    data_frame_copy = data_frame.copy()\n",
        "    data_frame_copy[pclass] = data_frame_copy[pclass].apply(lambda text_pclass: P_CLASSES[text_pclass])\n",
        "    data_frame_copy[sex] = data_frame_copy[sex].apply(lambda text_sex: int(text_sex == 'female'))\n",
        "    data_frame_copy[fare] *= FARE_NORMALIZER\n",
        "    data_frame_copy[sibsp] *= SIBSP_NORMALIZER\n",
        "    data_frame_copy[parch] *= PARCH_NORMALIZER\n",
        "    data_frame_copy[class_] = data_frame_copy[class_].apply(lambda text_class: CLASSES[text_class])\n",
        "    data_frame_copy[alive] = data_frame_copy[alive].apply(lambda text_alive: int(text_alive == 'yes'))\n",
        "    data_frame_copy[alone] = data_frame_copy[alone].apply(int)\n",
        "\n",
        "    data_frame_copy[age] *= AGE_NORMALIZER\n",
        "\n",
        "    return data_frame_copy"
      ]
    },
    {
      "cell_type": "code",
      "execution_count": 10,
      "metadata": {
        "id": "6Qw6lhChM2zc"
      },
      "outputs": [],
      "source": [
        "X_COLUMNS = [pclass, sex, sibsp, parch, fare, class_, alive, alone]\n",
        "Y_COLUMNS = [age]\n",
        "AGE_NORMALIZER = 0.01\n",
        "FARE_NORMALIZER = 0.001\n",
        "SIBSP_NORMALIZER = 0.1\n",
        "PARCH_NORMALIZER = 0.1\n",
        "CLASSES = {'First': 0.1, 'Second': 0.5, 'Third': 0.9}\n",
        "P_CLASSES = {1: 0.1, 2: 0.5, 3: 0.9}\n",
        "\n",
        "data = df[df.loc[:, age].notna()]\n",
        "prepared_data = prepare_data(data)\n",
        "x_data, y_data = prepared_data[X_COLUMNS].to_numpy(), prepared_data[Y_COLUMNS].to_numpy()\n",
        "x_train, x_test, y_train, y_test = train_test_split(x_data, y_data, train_size=0.9)"
      ]
    },
    {
      "cell_type": "markdown",
      "source": [
        "##### Аугментация данных"
      ],
      "metadata": {
        "id": "uPWlwLMTCRcs"
      }
    },
    {
      "cell_type": "code",
      "execution_count": null,
      "metadata": {
        "id": "jEU9zASB_p1N"
      },
      "outputs": [],
      "source": [
        "RANDOM_NUMBER_VARIANT = 1\n",
        "RANDOM_CHOICE_VARIANT = 2\n",
        "\n",
        "\n",
        "def data_augmentation(x: np.array, y: np.array, count: int = 1, x_transformations: Iterable = tuple()):\n",
        "    \"\"\"\n",
        "    Функция для аугментации данных. !Возвращает только новые данные\n",
        "    x: входные данные\n",
        "    y: выходные данные\n",
        "    count: количество новых данных\n",
        "    x_transformations: список с инструкциями для преобразований,\n",
        "        где инструкции могут быть двух видов:\n",
        "        1. {\n",
        "            't_variant': 1       вид инструкции, 1 - выбор случайного числа из диапазона\n",
        "            'index': int         индекс столбца, нод которым надо произвести данную инструкцию\n",
        "            'min': float         минимальное возможное значение столбца\n",
        "            'max': float         максимальное возможное значение для столбца\n",
        "            'max_plus': float    какое максимальное отклонение в большую сторону\n",
        "                                 может быть для значения x,\n",
        "                                 то есть задает диапазон [x, x + max_plus] для нового значения\n",
        "            'max_minus': float   аналогично 'max_plus', но задает [x - max_minus, x]\n",
        "                                 * 'max_minus' и 'max_plus' задают границы для определенного значения x,\n",
        "                                 * а 'max' и 'min' задают глобальные границы, за которые невозможно выйти ни одному x\n",
        "            'round': int         до какого знака после запятой нужно округлить\n",
        "        }\n",
        "        2. {\n",
        "            't_variant': 2      вид инструкции, 2 - выбор из набора вариантов\n",
        "            'index': int\n",
        "            'choice': list      массив из вариантов новых значений. если x нет в массиве, он не меняется\n",
        "            'max_plus': int     на сколько индексов можно уйти в правую сторону от значения x,\n",
        "                                необходимо для отсортированных массивов, к примеру когда есть несколько классов\n",
        "                                и изменять данные нужно только переходом в соседние классы\n",
        "            'max_minus': int    аналогично 'max_plus', только в левую сторону\n",
        "                                * для того, чтобы выбор был из всего массива,\n",
        "                                * 'max_plus' и 'max_minus' следует установить такими,\n",
        "                                * чтобы они были больше длины массива 'choice'\n",
        "        }\n",
        "    \"\"\"\n",
        "    new_x, new_y = [0] * count, [0] * count\n",
        "    for new_index in range(count):\n",
        "        # выбираем случайный элемент из массива\n",
        "        old_index = np.random.choice(len(x), 1)\n",
        "        new_x_elem = np.array(x[old_index], copy=True)[0]\n",
        "\n",
        "        # применяем изменения\n",
        "        for transform in x_transformations:\n",
        "            if transform['t_variant'] == RANDOM_NUMBER_VARIANT:\n",
        "                minimum = max(transform['min'], new_x_elem[transform['index']] - transform['max_minus'])\n",
        "                maximum = min(transform['max'], new_x_elem[transform['index']] + transform['max_plus'])\n",
        "                new_value = np.random.uniform(minimum, maximum)\n",
        "                new_x_elem[transform['index']] = round(new_value, transform['round'])\n",
        "\n",
        "            elif transform['t_variant'] == RANDOM_CHOICE_VARIANT:\n",
        "                # если нет элемента в массиве с новыми выборами, пропускаем\n",
        "                if new_x_elem[transform['index']] not in transform['choice']:\n",
        "                    continue\n",
        "\n",
        "                index_before_transformation = transform['choice'].index(new_x_elem[transform['index']])\n",
        "                minimum_index = max(0, index_before_transformation - transform['max_minus'])\n",
        "                maximum_index = min(len(transform['choice']),\n",
        "                                    index_before_transformation + transform['max_plus'] + 1)\n",
        "\n",
        "                choice_from = transform['choice'][minimum_index:maximum_index]\n",
        "                new_value = np.random.choice(choice_from)\n",
        "                new_x_elem[transform['index']] = new_value\n",
        "                \n",
        "        new_x[new_index] = new_x_elem\n",
        "        new_y[new_index] = y[old_index]\n",
        "    return np.array(new_x), np.array(new_y)[:, 0]  # в y создается лишняя размерность, убираем ее\n"
      ]
    },
    {
      "cell_type": "code",
      "execution_count": null,
      "metadata": {
        "id": "uMz5ycu0BhHF"
      },
      "outputs": [],
      "source": [
        "new_x_train, new_y_train = data_augmentation(\n",
        "    x_train, y_train, count=300,\n",
        "    x_transformations=[\n",
        "        {  # sibsp\n",
        "            'index': 2,\n",
        "            't_variant': RANDOM_CHOICE_VARIANT,\n",
        "            'choice': [0.1 * i for i in range(8)],\n",
        "            'max_plus': 1,\n",
        "            'max_minus': 1,\n",
        "        },\n",
        "        {  # parch\n",
        "            'index': 3,\n",
        "            't_variant': RANDOM_CHOICE_VARIANT,\n",
        "            'choice': [0.1 * i for i in range(8)],\n",
        "            'max_plus': 0,\n",
        "            'max_minus': 1,\n",
        "        },\n",
        "        {  # fare\n",
        "            'index': 4,\n",
        "            't_variant': RANDOM_NUMBER_VARIANT,\n",
        "            'min': 0,\n",
        "            'max': 1,\n",
        "            'max_plus': 0.010,\n",
        "            'max_minus': 0.010,\n",
        "            'round': 7\n",
        "        }\n",
        "    ])\n"
      ]
    },
    {
      "cell_type": "code",
      "execution_count": null,
      "metadata": {
        "id": "bpUkiUoQgYos"
      },
      "outputs": [],
      "source": [
        "total_x_train, total_y_train = (\n",
        "    np.concatenate((x_train, new_x_train)), \n",
        "    np.concatenate((y_train, new_y_train))\n",
        ")"
      ]
    },
    {
      "cell_type": "code",
      "execution_count": null,
      "metadata": {
        "colab": {
          "base_uri": "https://localhost:8080/"
        },
        "id": "Dic0sroF3Y3X",
        "outputId": "b9358234-b006-449f-fceb-5d1caff4ff5e"
      },
      "outputs": [
        {
          "name": "stdout",
          "output_type": "stream",
          "text": [
            "Всего данных для обучения(942, 8)\n"
          ]
        }
      ],
      "source": [
        "print(f'Всего данных для обучения{total_x_train.shape}')"
      ]
    },
    {
      "cell_type": "markdown",
      "source": [
        "##### Создание и обучение модели"
      ],
      "metadata": {
        "id": "veZCDjVZCW4G"
      }
    },
    {
      "cell_type": "code",
      "execution_count": null,
      "metadata": {
        "id": "F9-MiMifki8e"
      },
      "outputs": [],
      "source": [
        "def create_model():\n",
        "    input_layer = Input(len(X_COLUMNS))\n",
        "    layers_values = ((16, relu), \n",
        "                     (256, relu), \n",
        "                     (512, relu),\n",
        "                     (768, relu),\n",
        "                     (768, relu),\n",
        "                     (768, relu),\n",
        "                     (1024, relu),\n",
        "                     (4096, relu),\n",
        "                     (4096, relu),\n",
        "                     (1024, relu),\n",
        "                     (512, relu),\n",
        "                     (256, relu),\n",
        "                     (128, relu),\n",
        "                     (128, relu), \n",
        "                     (56, relu), \n",
        "                     (len(Y_COLUMNS), sigmoid))\n",
        "    last_layer = Dense(layers_values[0][0], layers_values[0][1])(input_layer)\n",
        "    for units, activation in layers_values[1:]:\n",
        "        last_layer = Dense(units, activation)(last_layer)\n",
        "\n",
        "    return Model(input_layer, last_layer)"
      ]
    },
    {
      "cell_type": "code",
      "execution_count": null,
      "metadata": {
        "id": "JKJ8lWUFnfK-"
      },
      "outputs": [],
      "source": [
        "model = create_model()\n",
        "model.compile(optimizer=Adam(), loss=mse, metrics=[mae])"
      ]
    },
    {
      "cell_type": "code",
      "execution_count": null,
      "metadata": {
        "colab": {
          "background_save": true,
          "base_uri": "https://localhost:8080/"
        },
        "id": "76ji_XArn6Az",
        "outputId": "2fcb3f9e-6151-4057-d43f-c96357b609ae"
      },
      "outputs": [
        {
          "name": "stdout",
          "output_type": "stream",
          "text": [
            "Epoch 1/600\n",
            "236/236 [==============================] - 7s 22ms/step - loss: 0.0225 - mean_absolute_error: 0.1193\n",
            "Epoch 2/600\n",
            "236/236 [==============================] - 5s 22ms/step - loss: 0.0193 - mean_absolute_error: 0.1116\n",
            "Epoch 3/600\n",
            "236/236 [==============================] - 6s 24ms/step - loss: 0.0184 - mean_absolute_error: 0.1087\n",
            "Epoch 4/600\n",
            "236/236 [==============================] - 6s 26ms/step - loss: 0.0189 - mean_absolute_error: 0.1098\n",
            "Epoch 5/600\n",
            "236/236 [==============================] - 4s 17ms/step - loss: 0.0175 - mean_absolute_error: 0.1061\n",
            "...\n",
            "Epoch 595/600\n",
            "236/236 [==============================] - 4s 18ms/step - loss: 0.0105 - mean_absolute_error: 0.0781\n",
            "Epoch 596/600\n",
            "236/236 [==============================] - 4s 18ms/step - loss: 0.0106 - mean_absolute_error: 0.0784\n",
            "Epoch 597/600\n",
            "236/236 [==============================] - 4s 18ms/step - loss: 0.0107 - mean_absolute_error: 0.0788\n",
            "Epoch 598/600\n",
            "236/236 [==============================] - 4s 18ms/step - loss: 0.0104 - mean_absolute_error: 0.0775\n",
            "Epoch 599/600\n",
            "236/236 [==============================] - 4s 18ms/step - loss: 0.0106 - mean_absolute_error: 0.0780\n",
            "Epoch 600/600\n",
            "236/236 [==============================] - 4s 18ms/step - loss: 0.0102 - mean_absolute_error: 0.0772\n"
          ]
        }
      ],
      "source": [
        "BATCH_SIZE = 4\n",
        "EPOCHS = 600\n",
        "history = model.fit(total_x_train, total_y_train, batch_size=BATCH_SIZE, epochs=EPOCHS).history\n",
        "# убрал длинный вывод данных, оставил только 5 первых и последних эпох"
      ]
    },
    {
      "cell_type": "code",
      "execution_count": null,
      "metadata": {
        "id": "iOzgj7zKsR03",
        "colab": {
          "base_uri": "https://localhost:8080/",
          "height": 351
        },
        "outputId": "cd9d7c79-2077-456d-c840-84b878db501d"
      },
      "outputs": [
        {
          "output_type": "execute_result",
          "data": {
            "text/plain": [
              "Text(0, 0.5, 'Точность, %')"
            ]
          },
          "metadata": {},
          "execution_count": 29
        },
        {
          "output_type": "display_data",
          "data": {
            "image/png": "[encoded data removed]",
            "text/plain": [
              "<Figure size 1440x360 with 2 Axes>"
            ]
          },
          "metadata": {
            "needs_background": "light"
          }
        }
      ],
      "source": [
        "fig, (losses_ax, metrics_ax) = plt.subplots(1, 2)\n",
        "fig.set_size_inches(20, 5)\n",
        "\n",
        "losses_ax.plot([x * 100 for x in history.get('loss')])\n",
        "losses_ax.set_xlabel('Эпохи')\n",
        "losses_ax.set_ylabel('Потери, %')\n",
        "\n",
        "metrics_ax.plot([(1 - x) * 100 for x in history.get('mean_absolute_error')])\n",
        "metrics_ax.set_xlabel('Эпохи')\n",
        "metrics_ax.set_ylabel('Точность, %')"
      ]
    },
    {
      "cell_type": "code",
      "execution_count": 83,
      "metadata": {
        "colab": {
          "base_uri": "https://localhost:8080/"
        },
        "outputId": "cb471e70-0dba-4af0-9a65-b782184b296d",
        "id": "pCbuV78tYg9X"
      },
      "outputs": [
        {
          "output_type": "stream",
          "name": "stdout",
          "text": [
            "Средняя ошибка на тестовых данных (в годах): 7.7\n"
          ]
        }
      ],
      "source": [
        "print('Средняя ошибка на тестовых данных (в годах): '\n",
        "      f'{round(model.evaluate(x_test, y_test, verbose=0)[1] / AGE_NORMALIZER, 1)}')"
      ]
    },
    {
      "cell_type": "code",
      "execution_count": 16,
      "metadata": {
        "colab": {
          "base_uri": "https://localhost:8080/",
          "height": 351
        },
        "outputId": "78dcfd7b-97c0-415f-b922-724c1a6d3b0b",
        "id": "6YgvSoM1LKJd"
      },
      "outputs": [
        {
          "output_type": "execute_result",
          "data": {
            "text/plain": [
              "<matplotlib.legend.Legend at 0x7fc3c9cfa690>"
            ]
          },
          "metadata": {},
          "execution_count": 16
        },
        {
          "output_type": "display_data",
          "data": {
            "image/png": "[encoded data removed]",
            "text/plain": [
              "<Figure size 720x360 with 1 Axes>"
            ]
          },
          "metadata": {
            "needs_background": "light"
          }
        }
      ],
      "source": [
        "fig, ax = plt.subplots(1, 1)\n",
        "fig.set_size_inches(10, 5)\n",
        "\n",
        "predicts = model.predict(x_test)\n",
        "\n",
        "ax.axhline(0, color='#ccc')\n",
        "ax.plot(np.absolute(predicts / AGE_NORMALIZER - y_test / AGE_NORMALIZER), label='Разница между предугаданными и реальными возрастами', linewidth=0, markersize=6, marker='o')\n",
        "\n",
        "ax.set_xlabel('Люди')\n",
        "ax.set_ylabel('Разница')\n",
        "ax.legend()"
      ]
    },
    {
      "cell_type": "markdown",
      "source": [
        "##### Сохранение модели"
      ],
      "metadata": {
        "id": "QXi3p6XaBxzp"
      }
    },
    {
      "cell_type": "code",
      "source": [
        "from google.colab import drive\n",
        "drive.mount('/content/drive')"
      ],
      "metadata": {
        "id": "2kBr4_WRZYtQ"
      },
      "execution_count": null,
      "outputs": []
    },
    {
      "cell_type": "code",
      "source": [
        "!mkdir /content/drive/MyDrive/yandex-lyceum-selection-round\n",
        "!mkdir /content/drive/MyDrive/yandex-lyceum-selection-round/models"
      ],
      "metadata": {
        "id": "01NRwRR3aDXu"
      },
      "execution_count": null,
      "outputs": []
    },
    {
      "cell_type": "code",
      "source": [
        "model.save('/content/drive/MyDrive/yandex-lyceum-selection-round/models/age-model')"
      ],
      "metadata": {
        "colab": {
          "base_uri": "https://localhost:8080/"
        },
        "id": "ztySeAz3Zn3R",
        "outputId": "6c8d9898-c317-4032-ff20-c06e13011b24"
      },
      "execution_count": null,
      "outputs": [
        {
          "output_type": "stream",
          "name": "stdout",
          "text": [
            "INFO:tensorflow:Assets written to: /content/drive/MyDrive/yandex-lyceum-selection-round/models/age-model/assets\n"
          ]
        }
      ]
    },
    {
      "cell_type": "code",
      "source": [
        "model.save('/content/drive/MyDrive/yandex-lyceum-selection-round/models/age-model.h5')"
      ],
      "metadata": {
        "id": "iu39kDBmai0i"
      },
      "execution_count": null,
      "outputs": []
    },
    {
      "cell_type": "markdown",
      "source": [
        "##### Загрузка модели"
      ],
      "metadata": {
        "id": "OjacCTuuCcrA"
      }
    },
    {
      "cell_type": "code",
      "source": [
        "from tensorflow.keras.models import load_model\n",
        "from google.colab import drive\n",
        "drive.mount('/content/drive')"
      ],
      "metadata": {
        "id": "DSkBwq_wCmn7",
        "outputId": "a566780d-3263-47a7-ee60-aca585c5ddd5",
        "colab": {
          "base_uri": "https://localhost:8080/"
        }
      },
      "execution_count": 11,
      "outputs": [
        {
          "output_type": "stream",
          "name": "stdout",
          "text": [
            "Mounted at /content/drive\n"
          ]
        }
      ]
    },
    {
      "cell_type": "code",
      "source": [
        "model = load_model('/content/drive/MyDrive/yandex-lyceum-selection-round/models/age-model')"
      ],
      "metadata": {
        "id": "eDizEK1bCrC0"
      },
      "execution_count": 12,
      "outputs": []
    },
    {
      "cell_type": "markdown",
      "source": [
        "##### Вставка возрастов"
      ],
      "metadata": {
        "id": "ypNYRnMIDOWX"
      }
    },
    {
      "cell_type": "code",
      "source": [
        "def age_reformer(row):\n",
        "    if row.isnull()[age]:\n",
        "        prepared_row = prepare_data(row.to_frame().transpose())\n",
        "        age_value = model.predict(np.asarray(prepared_row[X_COLUMNS].to_numpy()).astype('float32'))[0][0]\n",
        "        row[age] = round(age_value / AGE_NORMALIZER)\n",
        "    return row"
      ],
      "metadata": {
        "id": "oGkcbS9sDTcX"
      },
      "execution_count": 13,
      "outputs": []
    },
    {
      "cell_type": "code",
      "source": [
        "df = df.apply(age_reformer, 1)"
      ],
      "metadata": {
        "id": "t2MWkSbnMGxg"
      },
      "execution_count": 14,
      "outputs": []
    },
    {
      "cell_type": "code",
      "source": [
        "df.info()"
      ],
      "metadata": {
        "id": "NDeOjV-eWERw",
        "outputId": "c5d8cd27-0778-49d4-e029-784ab1308ac4",
        "colab": {
          "base_uri": "https://localhost:8080/"
        }
      },
      "execution_count": 74,
      "outputs": [
        {
          "output_type": "stream",
          "name": "stdout",
          "text": [
            "<class 'pandas.core.frame.DataFrame'>\n",
            "RangeIndex: 891 entries, 0 to 890\n",
            "Data columns (total 15 columns):\n",
            " #   Column       Non-Null Count  Dtype  \n",
            "---  ------       --------------  -----  \n",
            " 0   survived     891 non-null    int64  \n",
            " 1   pclass       891 non-null    int64  \n",
            " 2   sex          891 non-null    object \n",
            " 3   age          891 non-null    float64\n",
            " 4   sibsp        891 non-null    int64  \n",
            " 5   parch        891 non-null    int64  \n",
            " 6   fare         891 non-null    float64\n",
            " 7   embarked     891 non-null    object \n",
            " 8   class        891 non-null    object \n",
            " 9   who          891 non-null    object \n",
            " 10  adult_male   891 non-null    bool   \n",
            " 11  deck         203 non-null    object \n",
            " 12  embark_town  891 non-null    object \n",
            " 13  alive        891 non-null    object \n",
            " 14  alone        891 non-null    bool   \n",
            "dtypes: bool(2), float64(2), int64(4), object(7)\n",
            "memory usage: 92.4+ KB\n"
          ]
        }
      ]
    },
    {
      "cell_type": "code",
      "source": [
        "df.describe()"
      ],
      "metadata": {
        "id": "f2FBsi94Mi66",
        "outputId": "630eec3d-c82c-4448-9622-9b609f4fffac",
        "colab": {
          "base_uri": "https://localhost:8080/",
          "height": 300
        }
      },
      "execution_count": 15,
      "outputs": [
        {
          "output_type": "execute_result",
          "data": {
            "text/html": [
              "\n",
              "  <div id=\"df-dbdf0ddb-b65e-46bd-81e7-4378af628144\">\n",
              "    <div class=\"colab-df-container\">\n",
              "      <div>\n",
              "<style scoped>\n",
              "    .dataframe tbody tr th:only-of-type {\n",
              "        vertical-align: middle;\n",
              "    }\n",
              "\n",
              "    .dataframe tbody tr th {\n",
              "        vertical-align: top;\n",
              "    }\n",
              "\n",
              "    .dataframe thead th {\n",
              "        text-align: right;\n",
              "    }\n",
              "</style>\n",
              "<table border=\"1\" class=\"dataframe\">\n",
              "  <thead>\n",
              "    <tr style=\"text-align: right;\">\n",
              "      <th></th>\n",
              "      <th>survived</th>\n",
              "      <th>pclass</th>\n",
              "      <th>age</th>\n",
              "      <th>sibsp</th>\n",
              "      <th>parch</th>\n",
              "      <th>fare</th>\n",
              "    </tr>\n",
              "  </thead>\n",
              "  <tbody>\n",
              "    <tr>\n",
              "      <th>count</th>\n",
              "      <td>891.000000</td>\n",
              "      <td>891.000000</td>\n",
              "      <td>891.000000</td>\n",
              "      <td>891.000000</td>\n",
              "      <td>891.000000</td>\n",
              "      <td>891.000000</td>\n",
              "    </tr>\n",
              "    <tr>\n",
              "      <th>mean</th>\n",
              "      <td>0.383838</td>\n",
              "      <td>2.308642</td>\n",
              "      <td>29.067531</td>\n",
              "      <td>0.523008</td>\n",
              "      <td>0.381594</td>\n",
              "      <td>32.204208</td>\n",
              "    </tr>\n",
              "    <tr>\n",
              "      <th>std</th>\n",
              "      <td>0.486592</td>\n",
              "      <td>0.836071</td>\n",
              "      <td>13.779669</td>\n",
              "      <td>1.102743</td>\n",
              "      <td>0.806057</td>\n",
              "      <td>49.693429</td>\n",
              "    </tr>\n",
              "    <tr>\n",
              "      <th>min</th>\n",
              "      <td>0.000000</td>\n",
              "      <td>1.000000</td>\n",
              "      <td>0.420000</td>\n",
              "      <td>0.000000</td>\n",
              "      <td>0.000000</td>\n",
              "      <td>0.000000</td>\n",
              "    </tr>\n",
              "    <tr>\n",
              "      <th>25%</th>\n",
              "      <td>0.000000</td>\n",
              "      <td>2.000000</td>\n",
              "      <td>21.000000</td>\n",
              "      <td>0.000000</td>\n",
              "      <td>0.000000</td>\n",
              "      <td>7.910400</td>\n",
              "    </tr>\n",
              "    <tr>\n",
              "      <th>50%</th>\n",
              "      <td>0.000000</td>\n",
              "      <td>3.000000</td>\n",
              "      <td>28.000000</td>\n",
              "      <td>0.000000</td>\n",
              "      <td>0.000000</td>\n",
              "      <td>14.454200</td>\n",
              "    </tr>\n",
              "    <tr>\n",
              "      <th>75%</th>\n",
              "      <td>1.000000</td>\n",
              "      <td>3.000000</td>\n",
              "      <td>36.000000</td>\n",
              "      <td>1.000000</td>\n",
              "      <td>0.000000</td>\n",
              "      <td>31.000000</td>\n",
              "    </tr>\n",
              "    <tr>\n",
              "      <th>max</th>\n",
              "      <td>1.000000</td>\n",
              "      <td>3.000000</td>\n",
              "      <td>80.000000</td>\n",
              "      <td>8.000000</td>\n",
              "      <td>6.000000</td>\n",
              "      <td>512.329200</td>\n",
              "    </tr>\n",
              "  </tbody>\n",
              "</table>\n",
              "</div>\n",
              "      <button class=\"colab-df-convert\" onclick=\"convertToInteractive('df-dbdf0ddb-b65e-46bd-81e7-4378af628144')\"\n",
              "              title=\"Convert this dataframe to an interactive table.\"\n",
              "              style=\"display:none;\">\n",
              "        \n",
              "  <svg xmlns=\"http://www.w3.org/2000/svg\" height=\"24px\"viewBox=\"0 0 24 24\"\n",
              "       width=\"24px\">\n",
              "    <path d=\"M0 0h24v24H0V0z\" fill=\"none\"/>\n",
              "    <path d=\"M18.56 5.44l.94 2.06.94-2.06 2.06-.94-2.06-.94-.94-2.06-.94 2.06-2.06.94zm-11 1L8.5 8.5l.94-2.06 2.06-.94-2.06-.94L8.5 2.5l-.94 2.06-2.06.94zm10 10l.94 2.06.94-2.06 2.06-.94-2.06-.94-.94-2.06-.94 2.06-2.06.94z\"/><path d=\"M17.41 7.96l-1.37-1.37c-.4-.4-.92-.59-1.43-.59-.52 0-1.04.2-1.43.59L10.3 9.45l-7.72 7.72c-.78.78-.78 2.05 0 2.83L4 21.41c.39.39.9.59 1.41.59.51 0 1.02-.2 1.41-.59l7.78-7.78 2.81-2.81c.8-.78.8-2.07 0-2.86zM5.41 20L4 18.59l7.72-7.72 1.47 1.35L5.41 20z\"/>\n",
              "  </svg>\n",
              "      </button>\n",
              "      \n",
              "  <style>\n",
              "    .colab-df-container {\n",
              "      display:flex;\n",
              "      flex-wrap:wrap;\n",
              "      gap: 12px;\n",
              "    }\n",
              "\n",
              "    .colab-df-convert {\n",
              "      background-color: #E8F0FE;\n",
              "      border: none;\n",
              "      border-radius: 50%;\n",
              "      cursor: pointer;\n",
              "      display: none;\n",
              "      fill: #1967D2;\n",
              "      height: 32px;\n",
              "      padding: 0 0 0 0;\n",
              "      width: 32px;\n",
              "    }\n",
              "\n",
              "    .colab-df-convert:hover {\n",
              "      background-color: #E2EBFA;\n",
              "      box-shadow: 0px 1px 2px rgba(60, 64, 67, 0.3), 0px 1px 3px 1px rgba(60, 64, 67, 0.15);\n",
              "      fill: #174EA6;\n",
              "    }\n",
              "\n",
              "    [theme=dark] .colab-df-convert {\n",
              "      background-color: #3B4455;\n",
              "      fill: #D2E3FC;\n",
              "    }\n",
              "\n",
              "    [theme=dark] .colab-df-convert:hover {\n",
              "      background-color: #434B5C;\n",
              "      box-shadow: 0px 1px 3px 1px rgba(0, 0, 0, 0.15);\n",
              "      filter: drop-shadow(0px 1px 2px rgba(0, 0, 0, 0.3));\n",
              "      fill: #FFFFFF;\n",
              "    }\n",
              "  </style>\n",
              "\n",
              "      <script>\n",
              "        const buttonEl =\n",
              "          document.querySelector('#df-dbdf0ddb-b65e-46bd-81e7-4378af628144 button.colab-df-convert');\n",
              "        buttonEl.style.display =\n",
              "          google.colab.kernel.accessAllowed ? 'block' : 'none';\n",
              "\n",
              "        async function convertToInteractive(key) {\n",
              "          const element = document.querySelector('#df-dbdf0ddb-b65e-46bd-81e7-4378af628144');\n",
              "          const dataTable =\n",
              "            await google.colab.kernel.invokeFunction('convertToInteractive',\n",
              "                                                     [key], {});\n",
              "          if (!dataTable) return;\n",
              "\n",
              "          const docLinkHtml = 'Like what you see? Visit the ' +\n",
              "            '<a target=\"_blank\" href=https://colab.research.google.com/notebooks/data_table.ipynb>data table notebook</a>'\n",
              "            + ' to learn more about interactive tables.';\n",
              "          element.innerHTML = '';\n",
              "          dataTable['output_type'] = 'display_data';\n",
              "          await google.colab.output.renderOutput(dataTable, element);\n",
              "          const docLink = document.createElement('div');\n",
              "          docLink.innerHTML = docLinkHtml;\n",
              "          element.appendChild(docLink);\n",
              "        }\n",
              "      </script>\n",
              "    </div>\n",
              "  </div>\n",
              "  "
            ],
            "text/plain": [
              "         survived      pclass         age       sibsp       parch        fare\n",
              "count  891.000000  891.000000  891.000000  891.000000  891.000000  891.000000\n",
              "mean     0.383838    2.308642   29.067531    0.523008    0.381594   32.204208\n",
              "std      0.486592    0.836071   13.779669    1.102743    0.806057   49.693429\n",
              "min      0.000000    1.000000    0.420000    0.000000    0.000000    0.000000\n",
              "25%      0.000000    2.000000   21.000000    0.000000    0.000000    7.910400\n",
              "50%      0.000000    3.000000   28.000000    0.000000    0.000000   14.454200\n",
              "75%      1.000000    3.000000   36.000000    1.000000    0.000000   31.000000\n",
              "max      1.000000    3.000000   80.000000    8.000000    6.000000  512.329200"
            ]
          },
          "metadata": {},
          "execution_count": 15
        }
      ]
    },
    {
      "cell_type": "code",
      "source": [
        "df[who].value_counts()"
      ],
      "metadata": {
        "id": "YU6hXacFazYB",
        "outputId": "f186aa8f-181d-40b2-c9a7-1d89ac0f9d56",
        "colab": {
          "base_uri": "https://localhost:8080/"
        }
      },
      "execution_count": 17,
      "outputs": [
        {
          "output_type": "execute_result",
          "data": {
            "text/plain": [
              "man      537\n",
              "woman    271\n",
              "child     83\n",
              "Name: who, dtype: int64"
            ]
          },
          "metadata": {},
          "execution_count": 17
        }
      ]
    },
    {
      "cell_type": "markdown",
      "source": [
        "##### Решение конфликта `adult_male` и `age`\n",
        "В датасете присутствует столбец `adult_male`, который был рассчитан автором такой функцией:\n",
        "```\n",
        "df[\"who\"] = df[[\"age\", \"sex\"]].apply(woman_child_or_man, axis=1)\n",
        "df[\"adult_male\"] = df.who == \"man\"\n",
        "\n",
        "\n",
        "def woman_child_or_man(passenger):\n",
        "    age, sex = passenger\n",
        "    if age < 16:\n",
        "        return \"child\"\n",
        "    else:\n",
        "        return dict(male=\"man\", female=\"woman\")[sex]\n",
        "```\n",
        "Но так как `np.nan < 16 == False`, то все мужчины, у которых не обозначен возраст, считаются взрослыми. После восстановления возраста можно исправить столбец `adult_male`, помимо этого я хочу в столбце `who` разбить класс `child` на `boy` и `girl`"
      ],
      "metadata": {
        "id": "APGfJjqvL2EZ"
      }
    },
    {
      "cell_type": "code",
      "source": [
        "def who_replace(row): \n",
        "    row[who] = (('man', 'woman'), ('boy', 'girl'))[row[age] < 16][row[sex] == 'female']\n",
        "    return row"
      ],
      "metadata": {
        "id": "DIpXdrDBaH0l"
      },
      "execution_count": 26,
      "outputs": []
    },
    {
      "cell_type": "code",
      "source": [
        "df = df.apply(who_replace, 1)\n",
        "df[adult_male] = df[who] == 'man'"
      ],
      "metadata": {
        "id": "yiCm1gyeOLkV"
      },
      "execution_count": 27,
      "outputs": []
    },
    {
      "cell_type": "markdown",
      "source": [
        "#### Пропуски палубы\n"
      ],
      "metadata": {
        "id": "bZ3y5vxCV76D"
      }
    },
    {
      "cell_type": "code",
      "source": [
        "def fill_na_deck(data_frame: pd.DataFrame) -> pd.DataFrame:\n",
        "    data_frame[deck] = data_frame[deck].fillna(u)\n",
        "\n",
        "    return data_frame"
      ],
      "metadata": {
        "id": "UN9wRIZPWBPx"
      },
      "execution_count": 31,
      "outputs": []
    },
    {
      "cell_type": "code",
      "source": [
        "df = fill_na_deck(df)"
      ],
      "metadata": {
        "id": "u0kZFtiiWTMs"
      },
      "execution_count": 32,
      "outputs": []
    }
  ],
  "metadata": {
    "accelerator": "GPU",
    "colab": {
      "collapsed_sections": [
        "FlmEgYwamey5",
        "vP4kQGvSTFVZ",
        "QXi3p6XaBxzp"
      ],
      "name": "yandex-lyceum-selection-round.ipynb",
      "provenance": [],
      "toc_visible": true
    },
    "kernelspec": {
      "name": "python3",
      "language": "python",
      "display_name": "Python 3 (ipykernel)"
    },
    "language_info": {
      "name": "python"
    }
  },
  "nbformat": 4,
  "nbformat_minor": 0
}