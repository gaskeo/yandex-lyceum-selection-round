{
  "cells": [
    {
      "cell_type": "markdown",
      "metadata": {
        "id": "view-in-github",
        "colab_type": "text"
      },
      "source": [
        "<a href=\"https://colab.research.google.com/github/tikovka72/yandex-lyceum-selection-round/blob/main/main.ipynb\" target=\"_parent\"><img src=\"https://colab.research.google.com/assets/colab-badge.svg\" alt=\"Open In Colab\"/></a>"
      ]
    },
    {
      "cell_type": "markdown",
      "metadata": {
        "id": "W02_CY8HmbPF"
      },
      "source": [
        "# Решение"
      ]
    },
    {
      "cell_type": "markdown",
      "source": [
        "## Подготовка\n",
        "Установить все нужные библиотеки для работы программ (После этого нужно будет перезагрузить ядро)"
      ],
      "metadata": {
        "id": "t3nS-L9fdROX"
      }
    },
    {
      "cell_type": "markdown",
      "source": [
        "### Установка зависимостей"
      ],
      "metadata": {
        "id": "5UsQme-IX7IK"
      }
    },
    {
      "cell_type": "code",
      "source": [
        "!pip3 install -U matplotlib==3.5.1 \\\n",
        "                 tensorflow==2.7.0 \\\n",
        "                 pandas==1.3.5 \\\n",
        "                 numpy==1.19.5"
      ],
      "metadata": {
        "id": "HUBGF-Qz1sb_"
      },
      "execution_count": null,
      "outputs": []
    },
    {
      "cell_type": "markdown",
      "source": [
        "### Определение переменных для дальнейшей работы"
      ],
      "metadata": {
        "id": "2E_LmKOQU58H"
      }
    },
    {
      "cell_type": "code",
      "source": [
        "# columns\n",
        "survived = 'survived'\n",
        "pclass = 'pclass'\n",
        "sex = 'sex'\n",
        "age = 'age'\n",
        "sibsp = 'sibsp'\n",
        "parch = 'parch'\n",
        "fare = 'fare'\n",
        "embarked = 'embarked'\n",
        "class_ = 'class'\n",
        "who = 'who'\n",
        "adult_male = 'adult_male'\n",
        "deck = 'deck'\n",
        "embark_town = 'embark_town'\n",
        "alive = 'alive'\n",
        "alone = 'alone'\n",
        "\n",
        "# values\n",
        "unknown = 'Unknown'\n",
        "u = 'U'\n",
        "\n",
        "# для диаграмм\n",
        "\n",
        "# размеры фигур для .set_size(inches) \n",
        "one_axes_size = 10, 5\n",
        "two_axes_size = 20, 5\n",
        "three_axes_size = 30, 5\n",
        "\n",
        "# 2 полотна по горизонтали на фигуре \n",
        "two_axes_in_row = 1, 2\n",
        "three_axes_in_row = 1, 3\n",
        "\n",
        "# цвета \n",
        "good_color = '#A6B401'\n",
        "second_good_color = '#C3F294'\n",
        "thrid_good_color = '#EFF67B'\n",
        "bad_color = '#D50102'\n",
        "neutral_color = '#B3E7DC'\n",
        "second_neutral_color = '#B2B1AA'\n",
        "\n",
        "# другие значения\n",
        "bar_width = 0.4\n",
        "slim_bar_width = 0.2\n",
        "\n",
        "marker_size_l = 6"
      ],
      "metadata": {
        "id": "GL2Fafc6Uz_S"
      },
      "execution_count": 133,
      "outputs": []
    },
    {
      "cell_type": "markdown",
      "metadata": {
        "id": "FlmEgYwamey5"
      },
      "source": [
        "## 1. Скачать файл по ссылке"
      ]
    },
    {
      "cell_type": "code",
      "execution_count": 2,
      "metadata": {
        "colab": {
          "base_uri": "https://localhost:8080/"
        },
        "id": "ZWr2A3U-meQH",
        "outputId": "ae07782e-0b71-4801-fd77-176c6d7bacad"
      },
      "outputs": [
        {
          "output_type": "stream",
          "name": "stdout",
          "text": [
            "--2022-02-14 13:38:54--  https://raw.githubusercontent.com/mwaskom/seaborn-data/master/titanic.csv\n",
            "Resolving raw.githubusercontent.com (raw.githubusercontent.com)... 185.199.108.133, 185.199.109.133, 185.199.110.133, ...\n",
            "Connecting to raw.githubusercontent.com (raw.githubusercontent.com)|185.199.108.133|:443... connected.\n",
            "HTTP request sent, awaiting response... 200 OK\n",
            "Length: 57018 (56K) [text/plain]\n",
            "Saving to: ‘titanic.csv’\n",
            "\n",
            "\rtitanic.csv           0%[                    ]       0  --.-KB/s               \rtitanic.csv         100%[===================>]  55.68K  --.-KB/s    in 0.01s   \n",
            "\n",
            "2022-02-14 13:38:54 (4.68 MB/s) - ‘titanic.csv’ saved [57018/57018]\n",
            "\n",
            "--2022-02-14 13:38:54--  http://titanic.csv/\n",
            "Resolving titanic.csv (titanic.csv)... failed: Name or service not known.\n",
            "wget: unable to resolve host address ‘titanic.csv’\n",
            "FINISHED --2022-02-14 13:38:54--\n",
            "Total wall clock time: 0.2s\n",
            "Downloaded: 1 files, 56K in 0.01s (4.68 MB/s)\n"
          ]
        }
      ],
      "source": [
        "!wget 'https://raw.githubusercontent.com/mwaskom/seaborn-data/master/titanic.csv' 'titanic.csv'"
      ]
    },
    {
      "cell_type": "markdown",
      "metadata": {
        "id": "5I9xQAoeqw1S"
      },
      "source": [
        "## 2. Изучение данных"
      ]
    },
    {
      "cell_type": "markdown",
      "source": [
        "### Информация"
      ],
      "metadata": {
        "id": "vP4kQGvSTFVZ"
      }
    },
    {
      "cell_type": "code",
      "execution_count": 3,
      "metadata": {
        "id": "QT8aaifpqtiG",
        "outputId": "e7f38493-f007-4fa0-b36d-cebc96f6b5b2",
        "colab": {
          "base_uri": "https://localhost:8080/"
        }
      },
      "outputs": [
        {
          "output_type": "stream",
          "name": "stdout",
          "text": [
            "<class 'pandas.core.frame.DataFrame'>\n",
            "RangeIndex: 891 entries, 0 to 890\n",
            "Data columns (total 15 columns):\n",
            " #   Column       Non-Null Count  Dtype  \n",
            "---  ------       --------------  -----  \n",
            " 0   survived     891 non-null    int64  \n",
            " 1   pclass       891 non-null    int64  \n",
            " 2   sex          891 non-null    object \n",
            " 3   age          714 non-null    float64\n",
            " 4   sibsp        891 non-null    int64  \n",
            " 5   parch        891 non-null    int64  \n",
            " 6   fare         891 non-null    float64\n",
            " 7   embarked     889 non-null    object \n",
            " 8   class        891 non-null    object \n",
            " 9   who          891 non-null    object \n",
            " 10  adult_male   891 non-null    bool   \n",
            " 11  deck         203 non-null    object \n",
            " 12  embark_town  889 non-null    object \n",
            " 13  alive        891 non-null    object \n",
            " 14  alone        891 non-null    bool   \n",
            "dtypes: bool(2), float64(2), int64(4), object(7)\n",
            "memory usage: 92.4+ KB\n"
          ]
        }
      ],
      "source": [
        "import pandas as pd\n",
        "\n",
        "df = pd.read_csv('titanic.csv')\n",
        "df.info()"
      ]
    },
    {
      "cell_type": "markdown",
      "metadata": {
        "id": "pI1xhv4GrIaM"
      },
      "source": [
        "### Пропуски\n",
        "* возраст (`age`, 177 пропусков)\n",
        "* порт посадки (`embarked`, 2 пропуска)\n",
        "* палуба (`deck`, 688 пропусков)\n",
        "* город посадки (`embark_town`, 2 пропуска)\n",
        "\n",
        "### Заполнение пропусков\n",
        "#### Возраст \n",
        "Принято решение написать небольшую модель,\n",
        "обучить ее на заполненных данных\n",
        "и предположить примерный возраст в пропущенных ячейках.\n",
        "\n",
        "#### Порт посадки \n",
        "Все пропуски = `U` (unknown).\n",
        "Данный столбец в дальнейшем не потребуется, два пропущенных значения я решил заменить на `U` вместо удаления двух строк, так как объем данных и так достаточно мал.\n",
        "\n",
        "#### Город посадки\n",
        "Все пропуски = `Unknown`.\n",
        "То же самое, что и с портом.\n",
        "\n",
        "#### Палуба\n",
        "Все пропуски = `U`.\n",
        "В данном столбце очень мало значений, нормально обучить сеть на таком количестве затруднительно, а моего опыта в обработке данных не хватает, чтобы вручную найти закономерности и связи с другими столбцами. Данный столбец не потребуется для дальнейшей работы."
      ]
    },
    {
      "cell_type": "markdown",
      "metadata": {
        "id": "xj_eZw4xLOMi"
      },
      "source": [
        "#### Пропуски посадки"
      ]
    },
    {
      "cell_type": "code",
      "execution_count": 4,
      "metadata": {
        "id": "YzvqgLyowsSe",
        "pycharm": {
          "name": "#%%\n"
        }
      },
      "outputs": [],
      "source": [
        "def fill_na_embark(data_frame: pd.DataFrame) -> pd.DataFrame:\n",
        "    \"\"\"\n",
        "    Функция для заполнения пропусков embarked и embark_town\n",
        "    \n",
        "    \"\"\"\n",
        "    data_frame[embarked] = data_frame[embarked].fillna(u)\n",
        "    data_frame[embark_town] = data_frame[embark_town].fillna(unknown)\n",
        "\n",
        "    return data_frame"
      ]
    },
    {
      "cell_type": "code",
      "execution_count": 5,
      "metadata": {
        "id": "W8Us5STAJlPI"
      },
      "outputs": [],
      "source": [
        "def for_print_embark(data_frame: pd.DataFrame, column_offset: int = 4) -> pd.DataFrame:\n",
        "    \"\"\"\n",
        "    Функция для отображения информации \n",
        "    об уникальных значениях в столбцах 'embarked' и 'embark_town'\n",
        "\n",
        "    \"\"\"\n",
        "    for_print = [('Порты:', 'Города:')]\n",
        "    max_len_port = len(for_print[0][0])\n",
        "    output_str = ''\n",
        "\n",
        "    unique_ports, unique_towns = data_frame[embarked].unique(), data_frame[embark_town].unique()\n",
        "    \n",
        "    for index in range(max(len(unique_ports), len(unique_towns))):\n",
        "        # Доводим оба столбца до одной длины\n",
        "        temp_port = unique_ports[index] if index < len(unique_ports) else ''\n",
        "        temp_town = unique_towns[index] if index < len(unique_towns) else ''\n",
        "\n",
        "        max_len_port = max(max_len_port, len(temp_port))\n",
        "\n",
        "        for_print.append((temp_port, temp_town))\n",
        "\n",
        "    for port, town in for_print: \n",
        "        # смотрим, сколько занимает длина строки порта \n",
        "        # и делаем на основе этой строки отступ для второй колонки\n",
        "        output_str += f'{port}{\" \" * (max_len_port + column_offset - len(port))}{town}\\n'\n",
        "\n",
        "    return output_str"
      ]
    },
    {
      "cell_type": "code",
      "execution_count": 6,
      "metadata": {
        "colab": {
          "base_uri": "https://localhost:8080/"
        },
        "id": "_26PE-Zh633A",
        "outputId": "31870364-82cb-428e-9282-e8222668ed06"
      },
      "outputs": [
        {
          "output_type": "stream",
          "name": "stdout",
          "text": [
            "Порты:    Города:\n",
            "S         Southampton\n",
            "C         Cherbourg\n",
            "Q         Queenstown\n",
            "U         Unknown\n",
            "\n"
          ]
        }
      ],
      "source": [
        "df = fill_na_embark(df)\n",
        "print(for_print_embark(df))"
      ]
    },
    {
      "cell_type": "markdown",
      "metadata": {
        "id": "ckswBfxILhOS"
      },
      "source": [
        "#### Пропуски возраста"
      ]
    },
    {
      "cell_type": "markdown",
      "source": [
        "##### Подготовка данных"
      ],
      "metadata": {
        "id": "kGDHBZ_fCBP3"
      }
    },
    {
      "cell_type": "code",
      "execution_count": 7,
      "metadata": {
        "id": "AHhu8-gKLgTW"
      },
      "outputs": [],
      "source": [
        "from tensorflow.keras.models import Model\n",
        "from tensorflow.keras.layers import Dense, Input\n",
        "\n",
        "from tensorflow.keras.optimizers import Adam\n",
        "\n",
        "from tensorflow.keras.losses import mse\n",
        "from tensorflow.keras.metrics import mae\n",
        "from tensorflow.keras.activations import relu, sigmoid\n",
        "\n",
        "from sklearn.model_selection import train_test_split\n",
        "import numpy as np\n",
        "import matplotlib.pyplot as plt\n",
        "\n",
        "from typing import Iterable"
      ]
    },
    {
      "cell_type": "code",
      "execution_count": 8,
      "metadata": {
        "id": "jW0OqdyZP6Zc"
      },
      "outputs": [],
      "source": [
        "# константы для нормализации\n",
        "X_COLUMNS = [pclass, sex, sibsp, parch, fare, class_, alive, alone]\n",
        "Y_COLUMNS = [age]\n",
        "AGE_NORMALIZER = 0.01\n",
        "FARE_NORMALIZER = 0.001\n",
        "SIBSP_NORMALIZER = 0.1\n",
        "PARCH_NORMALIZER = 0.1\n",
        "CLASSES = {'First': 0.1, 'Second': 0.5, 'Third': 0.9}\n",
        "P_CLASSES = {1: 0.1, 2: 0.5, 3: 0.9}\n",
        "\n",
        "\n",
        "def prepare_data(data_frame): \n",
        "    \"\"\"\n",
        "    Функция для подготовки данных \n",
        "\n",
        "    \"\"\"\n",
        "    data_frame_copy = data_frame.copy()\n",
        "    data_frame_copy[pclass] = data_frame_copy[pclass].apply(lambda text_pclass: P_CLASSES[text_pclass])\n",
        "    data_frame_copy[sex] = data_frame_copy[sex].apply(lambda text_sex: int(text_sex == 'female'))\n",
        "    data_frame_copy[fare] *= FARE_NORMALIZER\n",
        "    data_frame_copy[sibsp] *= SIBSP_NORMALIZER\n",
        "    data_frame_copy[parch] *= PARCH_NORMALIZER\n",
        "    data_frame_copy[class_] = data_frame_copy[class_].apply(lambda text_class: CLASSES[text_class])\n",
        "    data_frame_copy[alive] = data_frame_copy[alive].apply(lambda text_alive: int(text_alive == 'yes'))\n",
        "    data_frame_copy[alone] = data_frame_copy[alone].apply(int)\n",
        "\n",
        "    data_frame_copy[age] *= AGE_NORMALIZER\n",
        "\n",
        "    return data_frame_copy"
      ]
    },
    {
      "cell_type": "code",
      "execution_count": 19,
      "metadata": {
        "id": "6Qw6lhChM2zc"
      },
      "outputs": [],
      "source": [
        "data = df[df.loc[:, age].notna()]\n",
        "prepared_data = prepare_data(data)\n",
        "x_data, y_data = prepared_data[X_COLUMNS].to_numpy(), prepared_data[Y_COLUMNS].to_numpy()\n",
        "x_train, x_test, y_train, y_test = train_test_split(x_data, y_data, train_size=0.9)"
      ]
    },
    {
      "cell_type": "markdown",
      "source": [
        "##### Аугментация данных"
      ],
      "metadata": {
        "id": "uPWlwLMTCRcs"
      }
    },
    {
      "cell_type": "code",
      "execution_count": null,
      "metadata": {
        "id": "jEU9zASB_p1N"
      },
      "outputs": [],
      "source": [
        "RANDOM_NUMBER_VARIANT = 1\n",
        "RANDOM_CHOICE_VARIANT = 2\n",
        "\n",
        "\n",
        "def data_augmentation(x: np.array, y: np.array, count: int = 1, x_transformations: Iterable = tuple()):\n",
        "    \"\"\"\n",
        "    Функция для аугментации данных. !Возвращает только новые данные\n",
        "    x: входные данные\n",
        "    y: выходные данные\n",
        "    count: количество новых данных\n",
        "    x_transformations: список с инструкциями для преобразований,\n",
        "        где инструкции могут быть двух видов:\n",
        "        1. {\n",
        "            't_variant': 1       вид инструкции, 1 - выбор случайного числа из диапазона\n",
        "            'index': int         индекс столбца, нод которым надо произвести данную инструкцию\n",
        "            'min': float         минимальное возможное значение столбца\n",
        "            'max': float         максимальное возможное значение для столбца\n",
        "            'max_plus': float    какое максимальное отклонение в большую сторону\n",
        "                                 может быть для значения x,\n",
        "                                 то есть задает диапазон [x, x + max_plus] для нового значения\n",
        "            'max_minus': float   аналогично 'max_plus', но задает [x - max_minus, x]\n",
        "                                 * 'max_minus' и 'max_plus' задают границы для определенного значения x,\n",
        "                                 * а 'max' и 'min' задают глобальные границы, за которые невозможно выйти ни одному x\n",
        "            'round': int         до какого знака после запятой нужно округлить\n",
        "        }\n",
        "        2. {\n",
        "            't_variant': 2      вид инструкции, 2 - выбор из набора вариантов\n",
        "            'index': int\n",
        "            'choice': list      массив из вариантов новых значений. если x нет в массиве, он не меняется\n",
        "            'max_plus': int     на сколько индексов можно уйти в правую сторону от значения x,\n",
        "                                необходимо для отсортированных массивов, к примеру когда есть несколько классов\n",
        "                                и изменять данные нужно только переходом в соседние классы\n",
        "            'max_minus': int    аналогично 'max_plus', только в левую сторону\n",
        "                                * для того, чтобы выбор был из всего массива,\n",
        "                                * 'max_plus' и 'max_minus' следует установить такими,\n",
        "                                * чтобы они были больше длины массива 'choice'\n",
        "        }\n",
        "    \"\"\"\n",
        "    new_x, new_y = [0] * count, [0] * count\n",
        "    for new_index in range(count):\n",
        "        # выбираем случайный элемент из массива\n",
        "        old_index = np.random.choice(len(x), 1)\n",
        "        new_x_elem = np.array(x[old_index], copy=True)[0]\n",
        "\n",
        "        # применяем изменения\n",
        "        for transform in x_transformations:\n",
        "            if transform['t_variant'] == RANDOM_NUMBER_VARIANT:\n",
        "                minimum = max(transform['min'], new_x_elem[transform['index']] - transform['max_minus'])\n",
        "                maximum = min(transform['max'], new_x_elem[transform['index']] + transform['max_plus'])\n",
        "                new_value = np.random.uniform(minimum, maximum)\n",
        "                new_x_elem[transform['index']] = round(new_value, transform['round'])\n",
        "\n",
        "            elif transform['t_variant'] == RANDOM_CHOICE_VARIANT:\n",
        "                # если нет элемента в массиве с новыми выборами, пропускаем\n",
        "                if new_x_elem[transform['index']] not in transform['choice']:\n",
        "                    continue\n",
        "\n",
        "                index_before_transformation = transform['choice'].index(new_x_elem[transform['index']])\n",
        "                minimum_index = max(0, index_before_transformation - transform['max_minus'])\n",
        "                maximum_index = min(len(transform['choice']),\n",
        "                                    index_before_transformation + transform['max_plus'] + 1)\n",
        "\n",
        "                choice_from = transform['choice'][minimum_index:maximum_index]\n",
        "                new_value = np.random.choice(choice_from)\n",
        "                new_x_elem[transform['index']] = new_value\n",
        "                \n",
        "        new_x[new_index] = new_x_elem\n",
        "        new_y[new_index] = y[old_index]\n",
        "    return np.array(new_x), np.array(new_y)[:, 0]  # в y создается лишняя размерность, убираем ее\n"
      ]
    },
    {
      "cell_type": "code",
      "execution_count": null,
      "metadata": {
        "id": "uMz5ycu0BhHF"
      },
      "outputs": [],
      "source": [
        "new_x_train, new_y_train = data_augmentation(\n",
        "    x_train, y_train, count=300,\n",
        "    x_transformations=[\n",
        "        {  # sibsp (количество родственников) может меняться \n",
        "           # в большую или меньшую сторону на 1 \n",
        "            'index': 2,\n",
        "            't_variant': RANDOM_CHOICE_VARIANT,\n",
        "            'choice': [0.1 * i for i in range(8)],\n",
        "            'max_plus': 1,\n",
        "            'max_minus': 1,\n",
        "        },\n",
        "        {  # parch (количество детей/родителей) может меняться \n",
        "           # в меньшую сторону на 1 \n",
        "            'index': 3,\n",
        "            't_variant': RANDOM_CHOICE_VARIANT,\n",
        "            'choice': [0.1 * i for i in range(8)],\n",
        "            'max_plus': 0,\n",
        "            'max_minus': 1,\n",
        "        },\n",
        "        {  # fare (оплата билета) может варьироваться на $10 вниз или вверх \n",
        "           # 0.010, а не 10 потому что данные уже нормализованы \n",
        "           # до значений в пределах [0, 1]\n",
        "            'index': 4,\n",
        "            't_variant': RANDOM_NUMBER_VARIANT,\n",
        "            'min': 0,\n",
        "            'max': 1,\n",
        "            'max_plus': 0.010,\n",
        "            'max_minus': 0.010,\n",
        "            'round': 7\n",
        "        }\n",
        "    ])\n"
      ]
    },
    {
      "cell_type": "code",
      "execution_count": null,
      "metadata": {
        "id": "bpUkiUoQgYos"
      },
      "outputs": [],
      "source": [
        "# собираем сгенерированные данные с уже имеющимися \n",
        "total_x_train, total_y_train = (\n",
        "    np.concatenate((x_train, new_x_train)), \n",
        "    np.concatenate((y_train, new_y_train))\n",
        ")"
      ]
    },
    {
      "cell_type": "code",
      "execution_count": null,
      "metadata": {
        "colab": {
          "base_uri": "https://localhost:8080/"
        },
        "id": "Dic0sroF3Y3X",
        "outputId": "b9358234-b006-449f-fceb-5d1caff4ff5e"
      },
      "outputs": [
        {
          "name": "stdout",
          "output_type": "stream",
          "text": [
            "Всего данных для обучения(942, 8)\n"
          ]
        }
      ],
      "source": [
        "print(f'Всего данных для обучения{total_x_train.shape}')"
      ]
    },
    {
      "cell_type": "markdown",
      "source": [
        "##### Создание и обучение модели"
      ],
      "metadata": {
        "id": "veZCDjVZCW4G"
      }
    },
    {
      "cell_type": "code",
      "execution_count": null,
      "metadata": {
        "id": "F9-MiMifki8e"
      },
      "outputs": [],
      "source": [
        "def create_model():\n",
        "    \"\"\"\n",
        "    Функция для создания модели\n",
        "    \n",
        "    \"\"\"\n",
        "    input_layer = Input(len(X_COLUMNS))\n",
        "    layers_values = ((16, relu), \n",
        "                     (256, relu), \n",
        "                     (512, relu),\n",
        "                     (768, relu),\n",
        "                     (768, relu),\n",
        "                     (768, relu),\n",
        "                     (1024, relu),\n",
        "                     (4096, relu),\n",
        "                     (4096, relu),\n",
        "                     (1024, relu),\n",
        "                     (512, relu),\n",
        "                     (256, relu),\n",
        "                     (128, relu),\n",
        "                     (128, relu), \n",
        "                     (56, relu), \n",
        "                     (len(Y_COLUMNS), sigmoid))\n",
        "    last_layer = Dense(layers_values[0][0], layers_values[0][1])(input_layer)\n",
        "    for units, activation in layers_values[1:]:\n",
        "        last_layer = Dense(units, activation)(last_layer)\n",
        "\n",
        "    return Model(input_layer, last_layer)"
      ]
    },
    {
      "cell_type": "code",
      "execution_count": null,
      "metadata": {
        "id": "JKJ8lWUFnfK-"
      },
      "outputs": [],
      "source": [
        "model = create_model()\n",
        "model.compile(optimizer=Adam(), loss=mse, metrics=[mae])"
      ]
    },
    {
      "cell_type": "code",
      "execution_count": null,
      "metadata": {
        "colab": {
          "background_save": true,
          "base_uri": "https://localhost:8080/"
        },
        "id": "76ji_XArn6Az",
        "outputId": "2fcb3f9e-6151-4057-d43f-c96357b609ae"
      },
      "outputs": [
        {
          "name": "stdout",
          "output_type": "stream",
          "text": [
            "Epoch 1/600\n",
            "236/236 [==============================] - 7s 22ms/step - loss: 0.0225 - mean_absolute_error: 0.1193\n",
            "Epoch 2/600\n",
            "236/236 [==============================] - 5s 22ms/step - loss: 0.0193 - mean_absolute_error: 0.1116\n",
            "Epoch 3/600\n",
            "236/236 [==============================] - 6s 24ms/step - loss: 0.0184 - mean_absolute_error: 0.1087\n",
            "Epoch 4/600\n",
            "236/236 [==============================] - 6s 26ms/step - loss: 0.0189 - mean_absolute_error: 0.1098\n",
            "Epoch 5/600\n",
            "236/236 [==============================] - 4s 17ms/step - loss: 0.0175 - mean_absolute_error: 0.1061\n",
            "...\n",
            "Epoch 595/600\n",
            "236/236 [==============================] - 4s 18ms/step - loss: 0.0105 - mean_absolute_error: 0.0781\n",
            "Epoch 596/600\n",
            "236/236 [==============================] - 4s 18ms/step - loss: 0.0106 - mean_absolute_error: 0.0784\n",
            "Epoch 597/600\n",
            "236/236 [==============================] - 4s 18ms/step - loss: 0.0107 - mean_absolute_error: 0.0788\n",
            "Epoch 598/600\n",
            "236/236 [==============================] - 4s 18ms/step - loss: 0.0104 - mean_absolute_error: 0.0775\n",
            "Epoch 599/600\n",
            "236/236 [==============================] - 4s 18ms/step - loss: 0.0106 - mean_absolute_error: 0.0780\n",
            "Epoch 600/600\n",
            "236/236 [==============================] - 4s 18ms/step - loss: 0.0102 - mean_absolute_error: 0.0772\n"
          ]
        }
      ],
      "source": [
        "BATCH_SIZE = 4\n",
        "EPOCHS = 600\n",
        "history = model.fit(total_x_train, total_y_train, batch_size=BATCH_SIZE, epochs=EPOCHS).history\n",
        "# убрал длинный вывод данных, оставил только 5 первых и последних эпох"
      ]
    },
    {
      "cell_type": "markdown",
      "source": [
        "##### Итоги обучения"
      ],
      "metadata": {
        "id": "z1yrSCHCZLrV"
      }
    },
    {
      "cell_type": "code",
      "execution_count": null,
      "metadata": {
        "colab": {
          "base_uri": "https://localhost:8080/",
          "height": 351
        },
        "outputId": "cd9d7c79-2077-456d-c840-84b878db501d",
        "id": "Rx4kdyrSxPW9"
      },
      "outputs": [
        {
          "output_type": "execute_result",
          "data": {
            "text/plain": [
              "Text(0, 0.5, 'Точность, %')"
            ]
          },
          "metadata": {},
          "execution_count": 29
        },
        {
          "output_type": "display_data",
          "data": {
            "image/png": "[encoded data removed]",
            "text/plain": [
              "<Figure size 1440x360 with 2 Axes>"
            ]
          },
          "metadata": {
            "needs_background": "light"
          }
        }
      ],
      "source": [
        "fig, (losses_axes, metrics_axes) = plt.subplots(*two_axes_in_row)\n",
        "fig.set_size_inches(two_axes_size)\n",
        "fig.suptitle('Итоги обучения')\n",
        "\n",
        "losses_axes.plot([x * 100 for x in history.get('loss')], color=good_color)\n",
        "\n",
        "losses_axes.set_title('Потери по эпохам')\n",
        "losses_axes.set_xlabel('Эпохи')\n",
        "losses_axes.set_ylabel('Потери, %')\n",
        "losses_axes.grid(True)\n",
        "\n",
        "metrics_axes.plot([(1 - x) * 100 for x in history.get('mean_absolute_error')], \n",
        "                  color=good_color)\n",
        "\n",
        "metrics_axes.set_title('Точность по эпохам')\n",
        "metrics_axes.set_xlabel('Эпохи')\n",
        "metrics_axes.set_ylabel('Точность, %')\n",
        "metrics_axes.grid(True)\n",
        "\n",
        "plt.show()"
      ]
    },
    {
      "cell_type": "code",
      "execution_count": null,
      "metadata": {
        "colab": {
          "base_uri": "https://localhost:8080/"
        },
        "outputId": "cb471e70-0dba-4af0-9a65-b782184b296d",
        "id": "pCbuV78tYg9X"
      },
      "outputs": [
        {
          "output_type": "stream",
          "name": "stdout",
          "text": [
            "Средняя ошибка на тестовых данных (в годах): 7.7\n"
          ]
        }
      ],
      "source": [
        "print('Средняя ошибка на тестовых данных (в годах): '\n",
        "      f'{round(model.evaluate(x_test, y_test, verbose=0)[1] / AGE_NORMALIZER, 1)}')"
      ]
    },
    {
      "cell_type": "code",
      "execution_count": 154,
      "metadata": {
        "colab": {
          "base_uri": "https://localhost:8080/",
          "height": 370
        },
        "outputId": "7fd3c584-dbe1-4b2d-ea80-272973507612",
        "id": "6YgvSoM1LKJd"
      },
      "outputs": [
        {
          "output_type": "display_data",
          "data": {
            "image/png": "[encoded data removed]",
            "text/plain": [
              "<Figure size 720x360 with 1 Axes>"
            ]
          },
          "metadata": {
            "needs_background": "light"
          }
        }
      ],
      "source": [
        "fig, axes = plt.subplots()\n",
        "fig.set_size_inches(*one_axes_size)\n",
        "fig.suptitle('Отклонение от правильных результатов')\n",
        "\n",
        "predicts = model.predict(x_test)\n",
        "\n",
        "values = predicts / AGE_NORMALIZER - y_test / AGE_NORMALIZER\n",
        "good_values = values[np.absolute(values) <= 10]\n",
        "bad_values = values[np.absolute(values) > 10]\n",
        "\n",
        "axes.fill_between(\n",
        "    np.arange(-1, max(len(good_values), len(bad_values)) + 1),\n",
        "     -10, 10, color=neutral_color)\n",
        "\n",
        "axes.plot(good_values, \n",
        "          linewidth=0, \n",
        "          markersize=marker_size_l, \n",
        "          marker='o',\n",
        "          color=good_color, \n",
        "          label='Отклонения до 10 лет')\n",
        "axes.plot(bad_values,\n",
        "          linewidth=0,\n",
        "          markersize=marker_size_l,\n",
        "          marker='o',\n",
        "          color=bad_color,\n",
        "          label='Отклонения больше 10 лет')\n",
        "\n",
        "\n",
        "axes.set_xlabel('Люди')\n",
        "axes.set_ylabel('Разница')\n",
        "axes.set_yticks(range(-30, 31, 10))\n",
        "axes.set_xticks(range(0, max(len(good_values), len(bad_values)), 5))\n",
        "axes.grid(True, axis='y', color=neutral_color)\n",
        "axes.legend()\n",
        "\n",
        "plt.show()"
      ]
    },
    {
      "cell_type": "markdown",
      "source": [
        "##### Сохранение модели"
      ],
      "metadata": {
        "id": "QXi3p6XaBxzp"
      }
    },
    {
      "cell_type": "code",
      "source": [
        "from google.colab import drive\n",
        "drive.mount('/content/drive')"
      ],
      "metadata": {
        "id": "2kBr4_WRZYtQ"
      },
      "execution_count": null,
      "outputs": []
    },
    {
      "cell_type": "code",
      "source": [
        "!mkdir /content/drive/MyDrive/yandex-lyceum-selection-round\n",
        "!mkdir /content/drive/MyDrive/yandex-lyceum-selection-round/models"
      ],
      "metadata": {
        "id": "01NRwRR3aDXu"
      },
      "execution_count": null,
      "outputs": []
    },
    {
      "cell_type": "code",
      "source": [
        "model.save('/content/drive/MyDrive/yandex-lyceum-selection-round/models/age-model')"
      ],
      "metadata": {
        "colab": {
          "base_uri": "https://localhost:8080/"
        },
        "id": "ztySeAz3Zn3R",
        "outputId": "6c8d9898-c317-4032-ff20-c06e13011b24"
      },
      "execution_count": null,
      "outputs": [
        {
          "output_type": "stream",
          "name": "stdout",
          "text": [
            "INFO:tensorflow:Assets written to: /content/drive/MyDrive/yandex-lyceum-selection-round/models/age-model/assets\n"
          ]
        }
      ]
    },
    {
      "cell_type": "code",
      "source": [
        "model.save('/content/drive/MyDrive/yandex-lyceum-selection-round/models/age-model.h5')"
      ],
      "metadata": {
        "id": "iu39kDBmai0i"
      },
      "execution_count": null,
      "outputs": []
    },
    {
      "cell_type": "markdown",
      "source": [
        "##### Загрузка модели"
      ],
      "metadata": {
        "id": "OjacCTuuCcrA"
      }
    },
    {
      "cell_type": "code",
      "source": [
        "from tensorflow.keras.models import load_model\n",
        "from google.colab import drive\n",
        "drive.mount('/content/drive')"
      ],
      "metadata": {
        "id": "DSkBwq_wCmn7",
        "outputId": "0d5ddbc9-c4f1-4897-e644-f4410b57456a",
        "colab": {
          "base_uri": "https://localhost:8080/"
        }
      },
      "execution_count": 9,
      "outputs": [
        {
          "output_type": "stream",
          "name": "stdout",
          "text": [
            "Mounted at /content/drive\n"
          ]
        }
      ]
    },
    {
      "cell_type": "code",
      "source": [
        "model = load_model('/content/drive/MyDrive/yandex-lyceum-selection-round/models/age-model')"
      ],
      "metadata": {
        "id": "eDizEK1bCrC0"
      },
      "execution_count": 10,
      "outputs": []
    },
    {
      "cell_type": "markdown",
      "source": [
        "##### Вставка возрастов"
      ],
      "metadata": {
        "id": "ypNYRnMIDOWX"
      }
    },
    {
      "cell_type": "code",
      "source": [
        "def age_reformer(row):\n",
        "    \"\"\"\n",
        "    Вставляет все пропуски в столбце возраст\n",
        "\n",
        "    \"\"\"\n",
        "    if row.isnull()[age]:\n",
        "        prepared_row = prepare_data(row.to_frame().transpose())\n",
        "        age_value = model.predict(np.asarray(\n",
        "            prepared_row[X_COLUMNS].to_numpy()).astype('float32'))[0][0]\n",
        "        row[age] = round(age_value / AGE_NORMALIZER)\n",
        "    return row"
      ],
      "metadata": {
        "id": "oGkcbS9sDTcX"
      },
      "execution_count": 11,
      "outputs": []
    },
    {
      "cell_type": "code",
      "source": [
        "df = df.apply(age_reformer, 1)"
      ],
      "metadata": {
        "id": "t2MWkSbnMGxg"
      },
      "execution_count": 12,
      "outputs": []
    },
    {
      "cell_type": "markdown",
      "source": [
        "##### Решение конфликта `adult_male` и `age`\n",
        "В датасете присутствует столбец `adult_male`, который был рассчитан автором такой функцией:\n",
        "```\n",
        "df[\"who\"] = df[[\"age\", \"sex\"]].apply(woman_child_or_man, axis=1)\n",
        "df[\"adult_male\"] = df.who == \"man\"\n",
        "\n",
        "\n",
        "def woman_child_or_man(passenger):\n",
        "    age, sex = passenger\n",
        "    if age < 16:\n",
        "        return \"child\"\n",
        "    else:\n",
        "        return dict(male=\"man\", female=\"woman\")[sex]\n",
        "```\n",
        "Но так как `np.nan < 16 == False`, то все мужчины, у которых не обозначен возраст, считаются взрослыми. После восстановления возраста можно исправить столбец `adult_male`, помимо этого я хочу в столбце `who` разбить класс `child` на `boy` и `girl`"
      ],
      "metadata": {
        "id": "APGfJjqvL2EZ"
      }
    },
    {
      "cell_type": "code",
      "source": [
        "def who_replace(row): \n",
        "    # Берем сначала по индексу возраст, потом пол \n",
        "    row[who] = (('man', 'woman'), ('boy', 'girl'))[row[age] < 16][row[sex] == 'female']\n",
        "    return row"
      ],
      "metadata": {
        "id": "DIpXdrDBaH0l"
      },
      "execution_count": 155,
      "outputs": []
    },
    {
      "cell_type": "code",
      "source": [
        "df = df.apply(who_replace, 1)\n",
        "df[adult_male] = df[who] == 'man'"
      ],
      "metadata": {
        "id": "yiCm1gyeOLkV"
      },
      "execution_count": 15,
      "outputs": []
    },
    {
      "cell_type": "markdown",
      "source": [
        "#### Пропуски палубы\n"
      ],
      "metadata": {
        "id": "bZ3y5vxCV76D"
      }
    },
    {
      "cell_type": "code",
      "source": [
        "def fill_na_deck(data_frame: pd.DataFrame) -> pd.DataFrame:\n",
        "    data_frame[deck] = data_frame[deck].fillna(u)\n",
        "\n",
        "    return data_frame"
      ],
      "metadata": {
        "id": "UN9wRIZPWBPx"
      },
      "execution_count": 16,
      "outputs": []
    },
    {
      "cell_type": "code",
      "source": [
        "df = fill_na_deck(df)"
      ],
      "metadata": {
        "id": "u0kZFtiiWTMs"
      },
      "execution_count": 17,
      "outputs": []
    },
    {
      "cell_type": "markdown",
      "source": [
        "#### Сохранение заполненной таблицы"
      ],
      "metadata": {
        "id": "0R5bDSwGe4Th"
      }
    },
    {
      "cell_type": "code",
      "source": [
        "!mkdir /content/drive/MyDrive/yandex-lyceum-selection-round/csv"
      ],
      "metadata": {
        "id": "Q7Pc-pEdfWmQ"
      },
      "execution_count": 18,
      "outputs": []
    },
    {
      "cell_type": "code",
      "source": [
        "df.to_csv('/content/drive/MyDrive/yandex-lyceum-selection-round/csv/filled_titanic.csv')"
      ],
      "metadata": {
        "id": "_tPdZ840e7_k"
      },
      "execution_count": 19,
      "outputs": []
    },
    {
      "cell_type": "markdown",
      "source": [
        "#### Загрузка заполненной таблицы"
      ],
      "metadata": {
        "id": "Ppn4Rs9efjhF"
      }
    },
    {
      "cell_type": "code",
      "source": [
        "df = pd.read_csv('/content/drive/MyDrive/yandex-lyceum-selection-round/csv/filled_titanic.csv')"
      ],
      "metadata": {
        "id": "TsxGS2FYfmiU"
      },
      "execution_count": 21,
      "outputs": []
    },
    {
      "cell_type": "markdown",
      "source": [
        "## Ответы на вопросы"
      ],
      "metadata": {
        "id": "-77Ks1P83cCK"
      }
    },
    {
      "cell_type": "markdown",
      "source": [
        "### a. Кого больше среди пассажиров — мужчин или женщин?"
      ],
      "metadata": {
        "id": "9tw8yTiO3yY5"
      }
    },
    {
      "cell_type": "code",
      "source": [
        "df[who].value_counts()"
      ],
      "metadata": {
        "id": "aS5EY4JL3_69",
        "outputId": "64a7fbae-7b41-4c6f-8ae8-9637031c3afe",
        "colab": {
          "base_uri": "https://localhost:8080/"
        }
      },
      "execution_count": 23,
      "outputs": [
        {
          "output_type": "execute_result",
          "data": {
            "text/plain": [
              "man      529\n",
              "woman    262\n",
              "girl      52\n",
              "boy       48\n",
              "Name: who, dtype: int64"
            ]
          },
          "metadata": {},
          "execution_count": 23
        }
      ]
    },
    {
      "cell_type": "markdown",
      "source": [
        "| Возраст  | Мужчин | Женщин | \n",
        "|----------|:------:|:------:|\n",
        "| Взрослые |  529   |   262  |\n",
        "|   Дети   |   48   |    52  | \n",
        "|  Всего   |  577   |   314  | \n",
        "\n",
        "В целом **мужчин было больше** среди пассажиров , но если смотреть на детей, то в этом случае девочки преобладают, но ответ на вопрос - **больше было мужчин**.\n",
        "\n"
      ],
      "metadata": {
        "id": "HzJoYDEn4zk7"
      }
    },
    {
      "cell_type": "markdown",
      "source": [
        "### b. Каков процент взрослых мужчин от всех пассажиров?\n",
        "Взрослых мужчин от всех пассажиров: `59%`."
      ],
      "metadata": {
        "id": "9cEXSDA7_eK3"
      }
    },
    {
      "cell_type": "code",
      "source": [
        "print(f'{round(df[df[adult_male]].shape[0] / df.shape[0] * 100)}% взрослых мужчин')"
      ],
      "metadata": {
        "id": "U7hc96vq_lge",
        "outputId": "52467289-64ab-42a4-bb60-2a32e127f6ee",
        "colab": {
          "base_uri": "https://localhost:8080/"
        }
      },
      "execution_count": 70,
      "outputs": [
        {
          "output_type": "stream",
          "name": "stdout",
          "text": [
            "59% взрослых мужчин\n"
          ]
        }
      ]
    },
    {
      "cell_type": "markdown",
      "source": [
        "### c. Сколько людей в каждом классе?"
      ],
      "metadata": {
        "id": "3xZcAZX5Fwk5"
      }
    },
    {
      "cell_type": "code",
      "source": [
        "df[class_].value_counts()"
      ],
      "metadata": {
        "id": "l2aQ-VsiFzjl",
        "outputId": "0b944211-fe13-4bd4-8abc-465b376a0708",
        "colab": {
          "base_uri": "https://localhost:8080/"
        }
      },
      "execution_count": 71,
      "outputs": [
        {
          "output_type": "execute_result",
          "data": {
            "text/plain": [
              "Third     491\n",
              "First     216\n",
              "Second    184\n",
              "Name: class, dtype: int64"
            ]
          },
          "metadata": {},
          "execution_count": 71
        }
      ]
    },
    {
      "cell_type": "markdown",
      "source": [
        "| Класс  | Количество |\n",
        "|--------|:----------:|\n",
        "| Первый |     216    |\n",
        "| Второй |     184    | \n",
        "| Третий |     491    | \n"
      ],
      "metadata": {
        "id": "HZfJJFgEF36Q"
      }
    },
    {
      "cell_type": "markdown",
      "source": [
        "## 4. Выводы из результатов"
      ],
      "metadata": {
        "id": "1-kMJ4-_Vth-"
      }
    },
    {
      "cell_type": "markdown",
      "source": [
        "Из метода `describe` мы можем узнать, что среднеквадратичное отклонение в столбцах `age` и `fare` достаточно большое, что может говорить о большом разбросе данных в данных столбцах. Интересен столбец `sibsp` - количество родственников на борту, только на `75%` появляется значение, равное одному родственнику. Большинство пассажиров путешествовали в одиночестве. Также эти же столбцы интересны и в цене билета (`fare`): `50%` пассажиров заплатили за билет не больше  `$14` при том, что максимальная цена билета была,  `$512`. Из этого можно сделать вывод, что на борту было относительно мало богатых людей. (В этом и последующих пунктах за единицу измерения цены билета я буду использовать `$`, так как нигде точно не указано, в какой валюте этот столбец)."
      ],
      "metadata": {
        "id": "O791bRZEnBOs"
      }
    },
    {
      "cell_type": "code",
      "source": [
        "df.describe()"
      ],
      "metadata": {
        "colab": {
          "base_uri": "https://localhost:8080/",
          "height": 300
        },
        "outputId": "8f2a7aea-baa2-4fb8-cf1e-428eb669c46d",
        "id": "jK2qN2HtVth_"
      },
      "execution_count": 26,
      "outputs": [
        {
          "output_type": "execute_result",
          "data": {
            "text/html": [
              "\n",
              "  <div id=\"df-e6e136f4-7bcf-4d9c-bd7b-44f1c25aeee6\">\n",
              "    <div class=\"colab-df-container\">\n",
              "      <div>\n",
              "<style scoped>\n",
              "    .dataframe tbody tr th:only-of-type {\n",
              "        vertical-align: middle;\n",
              "    }\n",
              "\n",
              "    .dataframe tbody tr th {\n",
              "        vertical-align: top;\n",
              "    }\n",
              "\n",
              "    .dataframe thead th {\n",
              "        text-align: right;\n",
              "    }\n",
              "</style>\n",
              "<table border=\"1\" class=\"dataframe\">\n",
              "  <thead>\n",
              "    <tr style=\"text-align: right;\">\n",
              "      <th></th>\n",
              "      <th>Unnamed: 0</th>\n",
              "      <th>survived</th>\n",
              "      <th>pclass</th>\n",
              "      <th>age</th>\n",
              "      <th>sibsp</th>\n",
              "      <th>parch</th>\n",
              "      <th>fare</th>\n",
              "    </tr>\n",
              "  </thead>\n",
              "  <tbody>\n",
              "    <tr>\n",
              "      <th>count</th>\n",
              "      <td>891.000000</td>\n",
              "      <td>891.000000</td>\n",
              "      <td>891.000000</td>\n",
              "      <td>891.000000</td>\n",
              "      <td>891.000000</td>\n",
              "      <td>891.000000</td>\n",
              "      <td>891.000000</td>\n",
              "    </tr>\n",
              "    <tr>\n",
              "      <th>mean</th>\n",
              "      <td>445.000000</td>\n",
              "      <td>0.383838</td>\n",
              "      <td>2.308642</td>\n",
              "      <td>29.067531</td>\n",
              "      <td>0.523008</td>\n",
              "      <td>0.381594</td>\n",
              "      <td>32.204208</td>\n",
              "    </tr>\n",
              "    <tr>\n",
              "      <th>std</th>\n",
              "      <td>257.353842</td>\n",
              "      <td>0.486592</td>\n",
              "      <td>0.836071</td>\n",
              "      <td>13.779669</td>\n",
              "      <td>1.102743</td>\n",
              "      <td>0.806057</td>\n",
              "      <td>49.693429</td>\n",
              "    </tr>\n",
              "    <tr>\n",
              "      <th>min</th>\n",
              "      <td>0.000000</td>\n",
              "      <td>0.000000</td>\n",
              "      <td>1.000000</td>\n",
              "      <td>0.420000</td>\n",
              "      <td>0.000000</td>\n",
              "      <td>0.000000</td>\n",
              "      <td>0.000000</td>\n",
              "    </tr>\n",
              "    <tr>\n",
              "      <th>25%</th>\n",
              "      <td>222.500000</td>\n",
              "      <td>0.000000</td>\n",
              "      <td>2.000000</td>\n",
              "      <td>21.000000</td>\n",
              "      <td>0.000000</td>\n",
              "      <td>0.000000</td>\n",
              "      <td>7.910400</td>\n",
              "    </tr>\n",
              "    <tr>\n",
              "      <th>50%</th>\n",
              "      <td>445.000000</td>\n",
              "      <td>0.000000</td>\n",
              "      <td>3.000000</td>\n",
              "      <td>28.000000</td>\n",
              "      <td>0.000000</td>\n",
              "      <td>0.000000</td>\n",
              "      <td>14.454200</td>\n",
              "    </tr>\n",
              "    <tr>\n",
              "      <th>75%</th>\n",
              "      <td>667.500000</td>\n",
              "      <td>1.000000</td>\n",
              "      <td>3.000000</td>\n",
              "      <td>36.000000</td>\n",
              "      <td>1.000000</td>\n",
              "      <td>0.000000</td>\n",
              "      <td>31.000000</td>\n",
              "    </tr>\n",
              "    <tr>\n",
              "      <th>max</th>\n",
              "      <td>890.000000</td>\n",
              "      <td>1.000000</td>\n",
              "      <td>3.000000</td>\n",
              "      <td>80.000000</td>\n",
              "      <td>8.000000</td>\n",
              "      <td>6.000000</td>\n",
              "      <td>512.329200</td>\n",
              "    </tr>\n",
              "  </tbody>\n",
              "</table>\n",
              "</div>\n",
              "      <button class=\"colab-df-convert\" onclick=\"convertToInteractive('df-e6e136f4-7bcf-4d9c-bd7b-44f1c25aeee6')\"\n",
              "              title=\"Convert this dataframe to an interactive table.\"\n",
              "              style=\"display:none;\">\n",
              "        \n",
              "  <svg xmlns=\"http://www.w3.org/2000/svg\" height=\"24px\"viewBox=\"0 0 24 24\"\n",
              "       width=\"24px\">\n",
              "    <path d=\"M0 0h24v24H0V0z\" fill=\"none\"/>\n",
              "    <path d=\"M18.56 5.44l.94 2.06.94-2.06 2.06-.94-2.06-.94-.94-2.06-.94 2.06-2.06.94zm-11 1L8.5 8.5l.94-2.06 2.06-.94-2.06-.94L8.5 2.5l-.94 2.06-2.06.94zm10 10l.94 2.06.94-2.06 2.06-.94-2.06-.94-.94-2.06-.94 2.06-2.06.94z\"/><path d=\"M17.41 7.96l-1.37-1.37c-.4-.4-.92-.59-1.43-.59-.52 0-1.04.2-1.43.59L10.3 9.45l-7.72 7.72c-.78.78-.78 2.05 0 2.83L4 21.41c.39.39.9.59 1.41.59.51 0 1.02-.2 1.41-.59l7.78-7.78 2.81-2.81c.8-.78.8-2.07 0-2.86zM5.41 20L4 18.59l7.72-7.72 1.47 1.35L5.41 20z\"/>\n",
              "  </svg>\n",
              "      </button>\n",
              "      \n",
              "  <style>\n",
              "    .colab-df-container {\n",
              "      display:flex;\n",
              "      flex-wrap:wrap;\n",
              "      gap: 12px;\n",
              "    }\n",
              "\n",
              "    .colab-df-convert {\n",
              "      background-color: #E8F0FE;\n",
              "      border: none;\n",
              "      border-radius: 50%;\n",
              "      cursor: pointer;\n",
              "      display: none;\n",
              "      fill: #1967D2;\n",
              "      height: 32px;\n",
              "      padding: 0 0 0 0;\n",
              "      width: 32px;\n",
              "    }\n",
              "\n",
              "    .colab-df-convert:hover {\n",
              "      background-color: #E2EBFA;\n",
              "      box-shadow: 0px 1px 2px rgba(60, 64, 67, 0.3), 0px 1px 3px 1px rgba(60, 64, 67, 0.15);\n",
              "      fill: #174EA6;\n",
              "    }\n",
              "\n",
              "    [theme=dark] .colab-df-convert {\n",
              "      background-color: #3B4455;\n",
              "      fill: #D2E3FC;\n",
              "    }\n",
              "\n",
              "    [theme=dark] .colab-df-convert:hover {\n",
              "      background-color: #434B5C;\n",
              "      box-shadow: 0px 1px 3px 1px rgba(0, 0, 0, 0.15);\n",
              "      filter: drop-shadow(0px 1px 2px rgba(0, 0, 0, 0.3));\n",
              "      fill: #FFFFFF;\n",
              "    }\n",
              "  </style>\n",
              "\n",
              "      <script>\n",
              "        const buttonEl =\n",
              "          document.querySelector('#df-e6e136f4-7bcf-4d9c-bd7b-44f1c25aeee6 button.colab-df-convert');\n",
              "        buttonEl.style.display =\n",
              "          google.colab.kernel.accessAllowed ? 'block' : 'none';\n",
              "\n",
              "        async function convertToInteractive(key) {\n",
              "          const element = document.querySelector('#df-e6e136f4-7bcf-4d9c-bd7b-44f1c25aeee6');\n",
              "          const dataTable =\n",
              "            await google.colab.kernel.invokeFunction('convertToInteractive',\n",
              "                                                     [key], {});\n",
              "          if (!dataTable) return;\n",
              "\n",
              "          const docLinkHtml = 'Like what you see? Visit the ' +\n",
              "            '<a target=\"_blank\" href=https://colab.research.google.com/notebooks/data_table.ipynb>data table notebook</a>'\n",
              "            + ' to learn more about interactive tables.';\n",
              "          element.innerHTML = '';\n",
              "          dataTable['output_type'] = 'display_data';\n",
              "          await google.colab.output.renderOutput(dataTable, element);\n",
              "          const docLink = document.createElement('div');\n",
              "          docLink.innerHTML = docLinkHtml;\n",
              "          element.appendChild(docLink);\n",
              "        }\n",
              "      </script>\n",
              "    </div>\n",
              "  </div>\n",
              "  "
            ],
            "text/plain": [
              "       Unnamed: 0    survived      pclass  ...       sibsp       parch        fare\n",
              "count  891.000000  891.000000  891.000000  ...  891.000000  891.000000  891.000000\n",
              "mean   445.000000    0.383838    2.308642  ...    0.523008    0.381594   32.204208\n",
              "std    257.353842    0.486592    0.836071  ...    1.102743    0.806057   49.693429\n",
              "min      0.000000    0.000000    1.000000  ...    0.000000    0.000000    0.000000\n",
              "25%    222.500000    0.000000    2.000000  ...    0.000000    0.000000    7.910400\n",
              "50%    445.000000    0.000000    3.000000  ...    0.000000    0.000000   14.454200\n",
              "75%    667.500000    1.000000    3.000000  ...    1.000000    0.000000   31.000000\n",
              "max    890.000000    1.000000    3.000000  ...    8.000000    6.000000  512.329200\n",
              "\n",
              "[8 rows x 7 columns]"
            ]
          },
          "metadata": {},
          "execution_count": 26
        }
      ]
    },
    {
      "cell_type": "markdown",
      "source": [
        "#### Средний возраст выживших \n",
        "Средний возраст выживших: 28 лет."
      ],
      "metadata": {
        "id": "PfYTWdxPVth_"
      }
    },
    {
      "cell_type": "code",
      "source": [
        "print(f'Средний возраст выживших: {round(df[df[survived] == 1][age].mean())} лет')"
      ],
      "metadata": {
        "colab": {
          "base_uri": "https://localhost:8080/"
        },
        "outputId": "5875f105-d748-4bca-d4a7-52554f9a954a",
        "id": "asfvlXgmVth_"
      },
      "execution_count": 27,
      "outputs": [
        {
          "output_type": "stream",
          "name": "stdout",
          "text": [
            "Средний возраст выживших: 28 лет\n"
          ]
        }
      ]
    },
    {
      "cell_type": "markdown",
      "source": [
        "#### Процент выживших по классам\n",
        "Процент выживших прямо зависит от класса, из чего можно сделать вывод, что безопасность пассажиров также зависит от него. В первом классе спаслось более половины пассажиров при том, что этот класс занимал `24%` всех пассажиров. "
      ],
      "metadata": {
        "id": "b6PMfkWJVtiA"
      }
    },
    {
      "cell_type": "code",
      "source": [
        "fig, axes = plt.subplots()\n",
        "fig.set_size_inches(*one_axes_size)\n",
        "fig.suptitle('Процент выживших в каждом классе')\n",
        "# вычисляет сколько процентов выживших в каждом классе \n",
        "# делит, потом сортирует по возрастанию класса \n",
        "items = np.array(sorted((\n",
        "    df[df[survived] == 1][pclass].value_counts() / \n",
        "    df[pclass].value_counts() * 100).items(), key=lambda column: column[0]))\n",
        "\n",
        "axes.bar(items[:, 0], items[:, 1], width=0.4, color=good_color)\n",
        "\n",
        "axes.set_xticks(items[:, 0])\n",
        "axes.set_xticklabels(('Первый', 'Второй', 'Третий'))\n",
        "axes.set_yticks(items[:, 1])\n",
        "axes.set_ylabel('Выжившие в классе, %')\n",
        "axes.set_xlabel('Класс')\n",
        "axes.grid(True, axis='y', color=neutral_color)\n",
        "\n",
        "plt.show()"
      ],
      "metadata": {
        "colab": {
          "base_uri": "https://localhost:8080/",
          "height": 370
        },
        "outputId": "c1bbfa34-ed0c-4a79-b2a2-b8f195eeb643",
        "id": "lnFIBEIkVtiA"
      },
      "execution_count": 81,
      "outputs": [
        {
          "output_type": "display_data",
          "data": {
            "image/png": "[encoded data removed]",
            "text/plain": [
              "<Figure size 720x360 with 1 Axes>"
            ]
          },
          "metadata": {
            "needs_background": "light"
          }
        }
      ]
    },
    {
      "cell_type": "markdown",
      "source": [
        "#### Выжившие по цене билета\n",
        "Как и ожидалось, количество выживших прямо зависит от цены билета: чем больше цена, тем больше относительное количество выживших. Переход в \"положительное\" количество выживших виден при цене билета, равном примерно `$ln(3.95) ~ $51`"
      ],
      "metadata": {
        "id": "EhWiquGDa85P"
      }
    },
    {
      "cell_type": "code",
      "source": [
        "fig, ax = plt.subplots()\n",
        "fig.set_size_inches(*one_axes_size)\n",
        "fig.suptitle('Выжившие относительно цены билета')\n",
        "\n",
        "bins = 30\n",
        "\n",
        "not_survived_fare = df[df[survived] == 0][fare].apply(np.log).replace(float('-inf'), 0)\n",
        "not_survived_fare.hist(\n",
        "    bins=bins, \n",
        "    ax=ax, \n",
        "    label='Не выжили', \n",
        "    color=bad_color)\n",
        "\n",
        "survived_fare = df[df[survived] == 1][fare].apply(np.log).replace(float('-inf'), 0)\n",
        "survived_fare.hist(\n",
        "    bins=bins, \n",
        "    ax=ax, \n",
        "    label='Выжили', \n",
        "    alpha=0.8,\n",
        "    color=good_color)\n",
        "\n",
        "ax.set_xlabel('Цена билета, $ln')\n",
        "ax.set_ylabel('Количество людей')\n",
        "ax.set_xticks(list(ax.get_xticks()[ax.get_xticks() != 4]) + [3.95])\n",
        "ax.legend()\n",
        "ax.grid(True, color=neutral_color)\n",
        "\n",
        "plt.show()"
      ],
      "metadata": {
        "colab": {
          "base_uri": "https://localhost:8080/",
          "height": 370
        },
        "id": "B--E6NWBTVh0",
        "outputId": "05fc9408-4538-4f03-9f00-f6031cd6c3d5"
      },
      "execution_count": 141,
      "outputs": [
        {
          "output_type": "display_data",
          "data": {
            "image/png": "[encoded data removed]",
            "text/plain": [
              "<Figure size 720x360 with 1 Axes>"
            ]
          },
          "metadata": {
            "needs_background": "light"
          }
        }
      ]
    },
    {
      "cell_type": "markdown",
      "source": [
        "### Проверка на нормальность"
      ],
      "metadata": {
        "id": "Owlbl-zGVtiB"
      }
    },
    {
      "cell_type": "markdown",
      "source": [
        "#### Возраст\n",
        "В данных возраста всех пассажиров присутствует небольшая положительная асимметрия"
      ],
      "metadata": {
        "id": "pytQZHU5VtiB"
      }
    },
    {
      "cell_type": "code",
      "source": [
        "fig, ax = plt.subplots()\n",
        "fig.set_size_inches(*one_axes_size)\n",
        "fig.suptitle('Возраст пассажиров')\n",
        "\n",
        "df[age].hist(bins=40, ax=ax, color=good_color)\n",
        "\n",
        "ax.set_xlabel('Возраст')\n",
        "ax.set_ylabel('Количество людей')\n",
        "ax.grid(True, color=neutral_color)\n",
        "\n",
        "plt.show()"
      ],
      "metadata": {
        "colab": {
          "base_uri": "https://localhost:8080/",
          "height": 370
        },
        "outputId": "b4e57556-7d8b-40dd-ec76-efbd7f1769e3",
        "id": "nfyarPvVVtiB"
      },
      "execution_count": 97,
      "outputs": [
        {
          "output_type": "display_data",
          "data": {
            "image/png": "[encoded data removed]",
            "text/plain": [
              "<Figure size 720x360 with 1 Axes>"
            ]
          },
          "metadata": {
            "needs_background": "light"
          }
        }
      ]
    },
    {
      "cell_type": "markdown",
      "source": [
        "Если смотреть на возрасты по классам, то данные распределены нормально только в первом и втором классах, в третьем классе присутствует положительная асимметрия, которая скорее всего и переходит в асимметрию во всей выборке"
      ],
      "metadata": {
        "id": "tFY4kzk6VtiC"
      }
    },
    {
      "cell_type": "code",
      "source": [
        "fig, axeses = plt.subplots(*three_axes_in_row)\n",
        "fig.suptitle('Возраст пассажиров по классам')\n",
        "\n",
        "fig.set_size_inches(*three_axes_size)\n",
        "\n",
        "\n",
        "classes = ('Первый класс', 'Второй класс', 'Третий класс')\n",
        "for index, ax in enumerate(axeses): \n",
        "    ax.set_title(classes[index])\n",
        "    df[df[pclass] == index + 1][age].hist(bins=30, ax=ax, color=good_color)\n",
        "    ax.set_xlabel('Возраст')\n",
        "    ax.set_ylabel('Количество людей')\n",
        "    ax.grid(True, color=neutral_color)\n",
        "\n",
        "plt.show()"
      ],
      "metadata": {
        "colab": {
          "base_uri": "https://localhost:8080/",
          "height": 324
        },
        "outputId": "6c25c44e-3427-4abe-f807-e33abc80508f",
        "id": "mEs4ps_PVtiC"
      },
      "execution_count": 106,
      "outputs": [
        {
          "output_type": "display_data",
          "data": {
            "image/png": "[encoded data removed]",
            "text/plain": [
              "<Figure size 2160x360 with 3 Axes>"
            ]
          },
          "metadata": {
            "needs_background": "light"
          }
        }
      ]
    },
    {
      "cell_type": "markdown",
      "source": [
        "#### Цена билета\n",
        "В этом столбце присутствует очень большая положительная асимметрия. \n",
        "Я попробовал взять логарифм от значений (прочитал, что в целом так правильно рассматривать денежные значения), чтобы получить логнормальное распределение, это немного исправило ситуацию, но глобально ничего почти не изменилось. Подавляющее большинство взяло дешевые билеты."
      ],
      "metadata": {
        "id": "YqYdUeVAVtiC"
      }
    },
    {
      "cell_type": "code",
      "source": [
        "fig, (axes, axes_ln) = plt.subplots(*two_axes_in_row)\n",
        "fig.set_size_inches(*two_axes_size)\n",
        "fig.suptitle('Количество билетов от цены')\n",
        "\n",
        "bins = 50\n",
        "\n",
        "df[fare].hist(bins=bins, ax=axes, color=good_color)\n",
        "axes.set_xlabel('Цена, $')\n",
        "axes.set_ylabel('Количество билетов')\n",
        "axes.grid(True, color=neutral_color)\n",
        "\n",
        "# Заменяем все значения \n",
        "# логарифм от 0 равен -inf, \n",
        "# поэтому для построения данной гистограммы пришлось заменять -inf на 0\n",
        "df[fare].apply(np.log).replace(float('-inf'), 0).hist(\n",
        "    bins=bins, \n",
        "    ax=axes_ln,\n",
        "    color=good_color)\n",
        "axes_ln.set_xlabel('Цена, $ln')\n",
        "axes_ln.set_ylabel('Количество билетов')\n",
        "axes_ln.grid(True, color=neutral_color)\n",
        "\n",
        "plt.show()"
      ],
      "metadata": {
        "colab": {
          "base_uri": "https://localhost:8080/",
          "height": 370
        },
        "outputId": "29e02c40-71f5-4c9c-d645-7fa8df85333c",
        "id": "wh6hXWdJVtiC"
      },
      "execution_count": 115,
      "outputs": [
        {
          "output_type": "display_data",
          "data": {
            "image/png": "[encoded data removed]",
            "text/plain": [
              "<Figure size 1440x360 with 2 Axes>"
            ]
          },
          "metadata": {
            "needs_background": "light"
          }
        }
      ]
    },
    {
      "cell_type": "markdown",
      "source": [
        "### Корреляция между возрастом и ценой билета\n",
        "Как видно из графиков ниже, корреляции между этими двумя столбцами нет("
      ],
      "metadata": {
        "id": "Mrlj5payKKka"
      }
    },
    {
      "cell_type": "code",
      "source": [
        "fig, (axes, axes_ln) = plt.subplots(*two_axes_in_row)\n",
        "fig.set_size_inches(*two_axes_size)\n",
        "fig.suptitle('Корреляция цены билета и возраста пассажира')\n",
        "# Корреляция между возрастом и ценой билета\n",
        "axes.plot(df[fare], df[age], linewidth=0, marker='o', color=good_color)\n",
        "axes.set_xlabel('Цена, $')\n",
        "axes.set_ylabel('Возраст')\n",
        "axes.grid(True, color=neutral_color)\n",
        "\n",
        "# корреляция между возрастом и логарифмом цены билеты\n",
        "axes_ln.plot(df[fare].apply(np.log).replace(float('-inf'), 0), df[age], \n",
        "             linewidth=0, \n",
        "             marker='o', \n",
        "             color=good_color)\n",
        "\n",
        "axes_ln.set_xlabel('Цена, $ln')\n",
        "axes_ln.set_ylabel('Возраст')\n",
        "axes_ln.grid(True, color=neutral_color)\n",
        "plt.show()"
      ],
      "metadata": {
        "colab": {
          "base_uri": "https://localhost:8080/",
          "height": 370
        },
        "outputId": "fc3602b5-a802-4537-9170-b49eda270167",
        "id": "2o1efRaSVtiD"
      },
      "execution_count": 119,
      "outputs": [
        {
          "output_type": "display_data",
          "data": {
            "image/png": "[encoded data removed]",
            "text/plain": [
              "<Figure size 1440x360 with 2 Axes>"
            ]
          },
          "metadata": {
            "needs_background": "light"
          }
        }
      ]
    },
    {
      "cell_type": "markdown",
      "source": [
        "## Новая таблица только с выжившими"
      ],
      "metadata": {
        "id": "PKLHezsZctqN"
      }
    },
    {
      "cell_type": "code",
      "source": [
        "df_alive = df[df[survived] == 1]\n",
        "df_alive.info()"
      ],
      "metadata": {
        "colab": {
          "base_uri": "https://localhost:8080/"
        },
        "id": "y6fn8Fltcxuf",
        "outputId": "e1e97b5e-57ab-4c25-8966-d6d2234caf21"
      },
      "execution_count": 120,
      "outputs": [
        {
          "output_type": "stream",
          "name": "stdout",
          "text": [
            "<class 'pandas.core.frame.DataFrame'>\n",
            "Int64Index: 342 entries, 1 to 889\n",
            "Data columns (total 15 columns):\n",
            " #   Column       Non-Null Count  Dtype  \n",
            "---  ------       --------------  -----  \n",
            " 0   survived     342 non-null    int64  \n",
            " 1   pclass       342 non-null    int64  \n",
            " 2   sex          342 non-null    object \n",
            " 3   age          342 non-null    float64\n",
            " 4   sibsp        342 non-null    int64  \n",
            " 5   parch        342 non-null    int64  \n",
            " 6   fare         342 non-null    float64\n",
            " 7   embarked     342 non-null    object \n",
            " 8   class        342 non-null    object \n",
            " 9   who          342 non-null    object \n",
            " 10  adult_male   342 non-null    bool   \n",
            " 11  deck         342 non-null    object \n",
            " 12  embark_town  342 non-null    object \n",
            " 13  alive        342 non-null    object \n",
            " 14  alone        342 non-null    bool   \n",
            "dtypes: bool(2), float64(2), int64(4), object(7)\n",
            "memory usage: 38.1+ KB\n"
          ]
        }
      ]
    },
    {
      "cell_type": "code",
      "source": [
        "df_alive.to_csv('/content/drive/MyDrive/yandex-lyceum-selection-round/csv/alive_titanic.csv')"
      ],
      "metadata": {
        "id": "zcgJXPpE1od1"
      },
      "execution_count": 121,
      "outputs": []
    },
    {
      "cell_type": "markdown",
      "source": [
        "### Изменение в проценте взрослых мужчин и не только\n",
        "В измененной таблице процент взрослых мужчин резко упал, что подтверждает работу правила \"Дамы и дети вперед\" уже в те годы. На самом деле больший процент спасенных пал на женщин, за ними - девочки, потом мальчики, заключили же эту последовательность мужчины. Можно сказать, что на борту были настоящие джентльмены."
      ],
      "metadata": {
        "id": "36OlLZAIeDFo"
      }
    },
    {
      "cell_type": "code",
      "source": [
        "print('Выживших взрослых мужчин в изначальной таблице: '\n",
        "      f'{round(df[df[adult_male] == 1].shape[0] / df.shape[0] * 100)}%')\n",
        "print('Выживших взрослых мужчин в измененной таблице: '\n",
        "      f'{round(df_alive[df_alive[adult_male] == 1].shape[0] / df_alive.shape[0] * 100)}%')"
      ],
      "metadata": {
        "colab": {
          "base_uri": "https://localhost:8080/"
        },
        "id": "uZs09KLZeJuI",
        "outputId": "fa543ba1-5a14-47dd-d3dd-3e3d4ce0060d"
      },
      "execution_count": null,
      "outputs": [
        {
          "output_type": "stream",
          "name": "stdout",
          "text": [
            "Выживших взрослых мужчин в изначальной таблице: 59%\n",
            "Выживших взрослых мужчин в измененной таблице: 25%\n"
          ]
        }
      ]
    },
    {
      "cell_type": "code",
      "source": [
        "def translate_and_to_numpy(value_counts):\n",
        "    who_eng_rus_pairs = (('man', 'Мужчины'),\n",
        "                         ('woman', 'Женщины'),\n",
        "                         ('girl', 'Девочки'),\n",
        "                         ('boy', 'Мальчики'))\n",
        "    return np.array(sorted(\n",
        "        [(rus, value_counts[eng]) for eng, rus in who_eng_rus_pairs],\n",
        "        key=lambda x: x[0]\n",
        "    ))\n",
        "\n",
        "who_items_all = translate_and_to_numpy(dict(df[who].value_counts()))\n",
        "who_items_alive = translate_and_to_numpy(dict(df_alive[who].value_counts()))\n",
        "\n",
        "# строим \n",
        "fig, (axes_absolutely, axes_relatively) = plt.subplots(*two_axes_in_row)\n",
        "fig.set_size_inches(*two_axes_size)\n",
        "fig.suptitle('Спасенные по своему статусу')\n",
        "\n",
        "for item, label, color in (\n",
        "    (who_items_all, 'Всего на борту', second_neutral_color), \n",
        "    (who_items_alive, 'Выжило', good_color)): \n",
        "    bar = axes_absolutely.bar(np.arange(4),  \n",
        "                              item[:, 1].astype(int), \n",
        "                              width=bar_width, \n",
        "                              label=label, color=color)\n",
        "\n",
        "    axes_absolutely.bar_label(bar, labels=item[:, 1])\n",
        "\n",
        "\n",
        "axes_absolutely.set_title('Абсолютно')\n",
        "axes_absolutely.set_xlabel('Кто')\n",
        "axes_absolutely.set_ylabel('Количество людей')\n",
        "axes_absolutely.legend()\n",
        "\n",
        "alive_percentages = (who_items_alive[:, 1].astype(int) / \n",
        "                     who_items_all[:, 1].astype(int) * 100)\n",
        "axes_relatively.bar(np.arange(4), alive_percentages, \n",
        "                    width=bar_width, color=good_color)\n",
        "\n",
        "axes_relatively.set_title('Относительно')\n",
        "axes_relatively.set_yticks(alive_percentages)\n",
        "axes_relatively.set_xlabel('Кто')\n",
        "axes_relatively.set_ylabel('Спасенные, %')\n",
        "\n",
        "for axes in (axes_absolutely, axes_relatively): \n",
        "    axes.set_xticks(np.arange(4))\n",
        "    axes.set_xticklabels(who_items_all[:, 0])\n",
        "    axes.grid(True, axis='y', color=neutral_color)\n",
        "\n",
        "plt.show()"
      ],
      "metadata": {
        "colab": {
          "base_uri": "https://localhost:8080/",
          "height": 370
        },
        "id": "mnxXLxuaglDl",
        "outputId": "b45950e0-bb19-46b3-805d-7c45beaab626"
      },
      "execution_count": 127,
      "outputs": [
        {
          "output_type": "display_data",
          "data": {
            "image/png": "[encoded data removed]",
            "text/plain": [
              "<Figure size 1440x360 with 2 Axes>"
            ]
          },
          "metadata": {
            "needs_background": "light"
          }
        }
      ]
    },
    {
      "cell_type": "markdown",
      "source": [
        "### Изменение в соотношении классов\n",
        "Первый и третий класс поменялись местами, учитывая, что в третьем классе было существенно больше людей, этот факт подтверждает тезис о том, что в первом классе безопасность была куда выше, чем в третьем. Второй класс так и остался на третьем месте в этом рейтинге, но отрыв от лидеров сокращен. \n",
        "\n",
        "На результаты большое влияние оказала существенная разница в количестве людей. \n"
      ],
      "metadata": {
        "id": "Tf6axGU4er2h"
      }
    },
    {
      "cell_type": "code",
      "source": [
        "fig, (axes_all, axes_alive) = plt.subplots(*two_axes_in_row)\n",
        "fig.set_size_inches(*two_axes_size)\n",
        "fig.suptitle('Количество людей по классам')\n",
        "\n",
        "classes_all = sorted(df[pclass].value_counts().items(), key=lambda x: x[0])\n",
        "classes_alive = sorted(df_alive[pclass].value_counts().items(), key=lambda x: x[0])\n",
        "\n",
        "label_texts = {1: 'Первый', 2: 'Второй', 3: 'Третий'}\n",
        "\n",
        "# [[x, y], [x, y], [x, y]] -> [[x, x, x], [y, y, y]] -> [x, x, x], [y, y, y]\n",
        "labels_all, x_all = zip(*classes_all)\n",
        "labels_all = [label_texts[i] for i in labels_all]\n",
        "\n",
        "labels_alive, x_alive = zip(*classes_alive)\n",
        "labels_alive = [label_texts[i] for i in labels_alive]\n",
        "\n",
        "axes_all.pie(x_all, labels=labels_all, autopct='%1.0f%%', \n",
        "             colors=(good_color, \n",
        "                     second_good_color, \n",
        "                     thrid_good_color))\n",
        "axes_all.set_title('Все пассажиры')\n",
        "\n",
        "axes_alive.pie(x_alive, labels=labels_alive, autopct='%1.0f%%', \n",
        "               colors=(good_color, \n",
        "                       second_good_color, \n",
        "                       thrid_good_color))\n",
        "axes_alive.set_title('Выжившие')\n",
        "\n",
        "plt.show()"
      ],
      "metadata": {
        "id": "yaWYGMVkz0qj",
        "colab": {
          "base_uri": "https://localhost:8080/",
          "height": 339
        },
        "outputId": "eb0ef268-f6ee-4fcf-e975-ecaa55b5a37f"
      },
      "execution_count": 137,
      "outputs": [
        {
          "output_type": "display_data",
          "data": {
            "image/png": "[encoded data removed]",
            "text/plain": [
              "<Figure size 1440x360 with 2 Axes>"
            ]
          },
          "metadata": {}
        }
      ]
    },
    {
      "cell_type": "markdown",
      "source": [
        "### Изменение соотношений возрастов людей\n",
        "На удивление мое предположение о том, что люди 20-30 вырвутся вперед по числу спасшихся, не подтвердилось, соотношение возрастов осталось примерно таким же, как и до крушения лайнера."
      ],
      "metadata": {
        "id": "NWENoRyypBeV"
      }
    },
    {
      "cell_type": "code",
      "source": [
        "fig, axes = plt.subplots()\n",
        "fig.set_size_inches(*one_axes_size)\n",
        "fig.suptitle('Соотношение людей разных возрастов')\n",
        "\n",
        "bins = 40\n",
        "\n",
        "df[age].hist(bins=bins, ax=axes, label='Все пассажиры', color=second_neutral_color)\n",
        "df_alive[age].hist(bins=bins, ax=axes, alpha=0.8, label='Выжившие', color=good_color)\n",
        "\n",
        "axes.set_xlabel('Возраст')\n",
        "axes.set_ylabel('Количество людей')\n",
        "\n",
        "axes.grid(True, color=neutral_color)\n",
        "axes.legend()\n",
        "plt.show()"
      ],
      "metadata": {
        "colab": {
          "base_uri": "https://localhost:8080/",
          "height": 370
        },
        "id": "sxyN5BE7p1MW",
        "outputId": "d6b375e5-91c1-40b1-8c27-488dc8d83ac0"
      },
      "execution_count": 148,
      "outputs": [
        {
          "output_type": "display_data",
          "data": {
            "image/png": "[encoded data removed]",
            "text/plain": [
              "<Figure size 720x360 with 1 Axes>"
            ]
          },
          "metadata": {
            "needs_background": "light"
          }
        }
      ]
    },
    {
      "cell_type": "markdown",
      "source": [
        "### Изменение в количестве одиночек\n",
        "В живых осталось немного меньше одиноких людей, нежели людей, которые отправились в путешествие с семьей, при том, что изначально одиноких людей было на 35% больше.\n",
        "\n",
        "Сила семьи, какой еще вывод сделать."
      ],
      "metadata": {
        "id": "eVkY5FsYxylt"
      }
    },
    {
      "cell_type": "code",
      "source": [
        "fig, axes = plt.subplots()\n",
        "fig.set_size_inches(*one_axes_size)\n",
        "\n",
        "alone_all = np.array(tuple(df[alone].value_counts().items()))\n",
        "axes.bar(alone_all[:, 0], alone_all[:, 1], \n",
        "         width=slim_bar_width, label='Все', color=second_neutral_color)\n",
        "\n",
        "alone_alive = np.array(tuple(df_alive[alone].value_counts().items()))\n",
        "axes.bar(alone_alive[:, 0], alone_alive[:, 1], \n",
        "         width=slim_bar_width, label='Выжившие', color=good_color)\n",
        "\n",
        "axes.set_xticks((0, 1))\n",
        "axes.set_xticklabels(('С родственниками', 'Одинокие'), rotation='horizontal')\n",
        "axes.legend()\n",
        "axes.grid(True, axis='y', color=neutral_color)\n",
        "plt.show()"
      ],
      "metadata": {
        "colab": {
          "base_uri": "https://localhost:8080/",
          "height": 320
        },
        "id": "ofmwXUA0rhyr",
        "outputId": "a71189fa-70d3-48f5-84e4-815d8722db63"
      },
      "execution_count": 152,
      "outputs": [
        {
          "output_type": "display_data",
          "data": {
            "image/png": "[encoded data removed]",
            "text/plain": [
              "<Figure size 720x360 with 1 Axes>"
            ]
          },
          "metadata": {
            "needs_background": "light"
          }
        }
      ]
    }
  ],
  "metadata": {
    "accelerator": "GPU",
    "colab": {
      "collapsed_sections": [],
      "name": "Copy of yandex-lyceum-selection-round.ipynb",
      "provenance": [],
      "toc_visible": true,
      "include_colab_link": true
    },
    "kernelspec": {
      "name": "python3",
      "language": "python",
      "display_name": "Python 3 (ipykernel)"
    },
    "language_info": {
      "name": "python"
    }
  },
  "nbformat": 4,
  "nbformat_minor": 0
}