{
  "nbformat": 4,
  "nbformat_minor": 0,
  "metadata": {
    "colab": {
      "name": "yandex-lyceum-selection-round.ipynb",
      "provenance": [],
      "collapsed_sections": [],
      "toc_visible": true,
      "authorship_tag": "ABX9TyMAMvt6wceunrignvCmBsem"
    },
    "kernelspec": {
      "name": "python3",
      "display_name": "Python 3"
    },
    "language_info": {
      "name": "python"
    },
    "accelerator": "GPU"
  },
  "cells": [
    {
      "cell_type": "markdown",
      "source": [
        "# Решение"
      ],
      "metadata": {
        "id": "W02_CY8HmbPF"
      }
    },
    {
      "cell_type": "markdown",
      "source": [
        "## 1. Скачать файл по ссылке"
      ],
      "metadata": {
        "id": "FlmEgYwamey5"
      }
    },
    {
      "cell_type": "code",
      "source": [
        "!wget 'https://raw.githubusercontent.com/mwaskom/seaborn-data/master/titanic.csv' 'titanic.csv'"
      ],
      "metadata": {
        "colab": {
          "base_uri": "https://localhost:8080/"
        },
        "id": "ZWr2A3U-meQH",
        "outputId": "c64b8c1d-312b-4e70-82c3-267015bd7d0b"
      },
      "execution_count": 1,
      "outputs": [
        {
          "output_type": "stream",
          "name": "stdout",
          "text": [
            "--2022-02-11 03:20:41--  https://raw.githubusercontent.com/mwaskom/seaborn-data/master/titanic.csv\n",
            "Resolving raw.githubusercontent.com (raw.githubusercontent.com)... 185.199.108.133, 185.199.109.133, 185.199.110.133, ...\n",
            "Connecting to raw.githubusercontent.com (raw.githubusercontent.com)|185.199.108.133|:443... connected.\n",
            "HTTP request sent, awaiting response... 200 OK\n",
            "Length: 57018 (56K) [text/plain]\n",
            "Saving to: ‘titanic.csv’\n",
            "\n",
            "titanic.csv         100%[===================>]  55.68K  --.-KB/s    in 0.004s  \n",
            "\n",
            "2022-02-11 03:20:41 (12.7 MB/s) - ‘titanic.csv’ saved [57018/57018]\n",
            "\n",
            "--2022-02-11 03:20:41--  http://titanic.csv/\n",
            "Resolving titanic.csv (titanic.csv)... failed: Name or service not known.\n",
            "wget: unable to resolve host address ‘titanic.csv’\n",
            "FINISHED --2022-02-11 03:20:41--\n",
            "Total wall clock time: 0.3s\n",
            "Downloaded: 1 files, 56K in 0.004s (12.7 MB/s)\n"
          ]
        }
      ]
    },
    {
      "cell_type": "markdown",
      "source": [
        "## 2. Изучение данных"
      ],
      "metadata": {
        "id": "5I9xQAoeqw1S"
      }
    },
    {
      "cell_type": "code",
      "source": [
        "import pandas as pd"
      ],
      "metadata": {
        "id": "QT8aaifpqtiG"
      },
      "execution_count": 2,
      "outputs": []
    },
    {
      "cell_type": "code",
      "source": [
        "df = pd.read_csv('/content/titanic.csv')"
      ],
      "metadata": {
        "id": "FSqZKOpkq5pI"
      },
      "execution_count": 3,
      "outputs": []
    },
    {
      "cell_type": "code",
      "source": [
        "df.info()"
      ],
      "metadata": {
        "colab": {
          "base_uri": "https://localhost:8080/"
        },
        "id": "c58iAUSjrChW",
        "outputId": "091d2a44-b32b-4bc2-88da-200ee5901150"
      },
      "execution_count": 4,
      "outputs": [
        {
          "output_type": "stream",
          "name": "stdout",
          "text": [
            "<class 'pandas.core.frame.DataFrame'>\n",
            "RangeIndex: 891 entries, 0 to 890\n",
            "Data columns (total 15 columns):\n",
            " #   Column       Non-Null Count  Dtype  \n",
            "---  ------       --------------  -----  \n",
            " 0   survived     891 non-null    int64  \n",
            " 1   pclass       891 non-null    int64  \n",
            " 2   sex          891 non-null    object \n",
            " 3   age          714 non-null    float64\n",
            " 4   sibsp        891 non-null    int64  \n",
            " 5   parch        891 non-null    int64  \n",
            " 6   fare         891 non-null    float64\n",
            " 7   embarked     889 non-null    object \n",
            " 8   class        891 non-null    object \n",
            " 9   who          891 non-null    object \n",
            " 10  adult_male   891 non-null    bool   \n",
            " 11  deck         203 non-null    object \n",
            " 12  embark_town  889 non-null    object \n",
            " 13  alive        891 non-null    object \n",
            " 14  alone        891 non-null    bool   \n",
            "dtypes: bool(2), float64(2), int64(4), object(7)\n",
            "memory usage: 92.4+ KB\n"
          ]
        }
      ]
    },
    {
      "cell_type": "markdown",
      "source": [
        "### Пропуски:\n",
        "* возраст (age, 177 пропусков)\n",
        "* порт посадки (embarked, 2 пропуска)\n",
        "* палуба (deck, 688 пропусков)\n",
        "* город посадки (embark_town, 2 пропуска)\n",
        "\n",
        "### Заполениние пропусков\n",
        "#### Возраст \n",
        "Принято решение написать небольшую модель, обучить ее на заполненных данных и предугадать примерный возраст в пропущенных ячейках. \n",
        "\n",
        "#### Порт посадки \n",
        "Все пропуски = U (unknown).\n",
        "\n",
        "#### Палуба\n",
        "Для определения палубы будет написана другая модель, но ориентироваться на результаты ее работы я не буду, так как тренировочная выборка слишком мала (203 элемента).\n",
        "\n",
        "#### Город посадки\n",
        "Все пропуски = Unknown."
      ],
      "metadata": {
        "id": "pI1xhv4GrIaM"
      }
    },
    {
      "cell_type": "markdown",
      "source": [
        "#### Пропуски посадки"
      ],
      "metadata": {
        "id": "xj_eZw4xLOMi"
      }
    },
    {
      "cell_type": "code",
      "source": [
        "def fill_na_embark(data_frame: pd.core.frame.DataFrame) -> pd.core.frame.DataFrame: \n",
        "    data_frame['embarked'] = data_frame['embarked'].fillna('U')\n",
        "    data_frame['embark_town'] = data_frame['embark_town'].fillna('Unknown')\n",
        "\n",
        "    return data_frame"
      ],
      "metadata": {
        "id": "YzvqgLyowsSe"
      },
      "execution_count": 5,
      "outputs": []
    },
    {
      "cell_type": "code",
      "source": [
        "def for_print_embark(data_frame: pd.core.frame.DataFrame, column_offset=4) -> pd.core.frame.DataFrame:\n",
        "    for_print = [('Порты:', 'Города:')]\n",
        "    max_len_port = len(for_print[0][0])\n",
        "    output_str = ''\n",
        "\n",
        "    unique_ports, unique_towns = df['embarked'].unique(), df['embark_town'].unique()\n",
        "    \n",
        "    for index in range(max(len(unique_ports), len(unique_towns))):\n",
        "        temp_port = unique_ports[index] if index < len(unique_ports) else ''\n",
        "        temp_town = unique_towns[index] if index < len(unique_towns) else ''\n",
        "\n",
        "        max_len_port = max(max_len_port, len(temp_port))\n",
        "\n",
        "        for_print.append((temp_port, temp_town))\n",
        "\n",
        "    for port, town in for_print: \n",
        "        output_str += f'{port}{\" \" * (max_len_port + column_offset - len(port))}{town}\\n'\n",
        "\n",
        "    return output_str"
      ],
      "metadata": {
        "id": "W8Us5STAJlPI"
      },
      "execution_count": 6,
      "outputs": []
    },
    {
      "cell_type": "code",
      "source": [
        "df = fill_na_embark(df)\n",
        "print(for_print_embark(df))"
      ],
      "metadata": {
        "colab": {
          "base_uri": "https://localhost:8080/"
        },
        "id": "_26PE-Zh633A",
        "outputId": "6acd8247-cff7-42fe-bb85-82cb5d9612aa"
      },
      "execution_count": 7,
      "outputs": [
        {
          "output_type": "stream",
          "name": "stdout",
          "text": [
            "Порты:    Города:\n",
            "S         Southampton\n",
            "C         Cherbourg\n",
            "Q         Queenstown\n",
            "U         Unknown\n",
            "\n"
          ]
        }
      ]
    },
    {
      "cell_type": "markdown",
      "source": [
        "#### Пропуски возраста"
      ],
      "metadata": {
        "id": "ckswBfxILhOS"
      }
    },
    {
      "cell_type": "code",
      "source": [
        "from tensorflow.keras.models import Model\n",
        "from tensorflow.keras.layers import Dense, Input\n",
        "\n",
        "from tensorflow.keras.optimizers import Adam\n",
        "\n",
        "from tensorflow.keras.losses import mse\n",
        "from tensorflow.keras.metrics import mae\n",
        "from tensorflow.keras.activations import sigmoid, relu\n",
        "\n",
        "from sklearn.model_selection import train_test_split\n",
        "import matplotlib.pyplot as plt"
      ],
      "metadata": {
        "id": "AHhu8-gKLgTW"
      },
      "execution_count": 8,
      "outputs": []
    },
    {
      "cell_type": "code",
      "source": [
        "def prepare_data(data_frame): \n",
        "    data_frame_copy = data_frame.copy()\n",
        "    data_frame_copy['pclass'] = data_frame_copy['pclass'].apply(lambda pcls: P_CLASSES[pcls])\n",
        "    data_frame_copy['sex'] = data_frame_copy['sex'].apply(lambda sex: int(sex == 'female'))\n",
        "    data_frame_copy['fare'] *= FARE_NORMALIZER\n",
        "    data_frame_copy['sibsp'] *= SIBSP_NORMALIZER\n",
        "    data_frame_copy['parch'] *= PARCH_NORMALIZER\n",
        "    data_frame_copy['class'] = data_frame_copy['class'].apply(lambda cls: CLASSES[cls])\n",
        "    data_frame_copy['alive'] = data_frame_copy['alive'].apply(lambda alive: int(alive == 'yes'))\n",
        "    data_frame_copy['alone'] = data_frame_copy['alone'].apply(int)\n",
        "\n",
        "    data_frame_copy['age'] *= AGE_NORMALIZER\n",
        "\n",
        "    return data_frame_copy"
      ],
      "metadata": {
        "id": "jW0OqdyZP6Zc"
      },
      "execution_count": 9,
      "outputs": []
    },
    {
      "cell_type": "code",
      "source": [
        "X_COLUMNS = ['pclass', 'sex', 'sibsp', 'parch', 'fare', 'class', 'alive', 'alone']\n",
        "Y_COLUMNS = ['age']\n",
        "AGE_NORMALIZER = 0.01\n",
        "FARE_NORMALIZER = 0.001\n",
        "SIBSP_NORMALIZER = 0.1\n",
        "PARCH_NORMALIZER = 0.1\n",
        "CLASSES = {'First': 0.1, 'Second': 0.5, 'Third': 0.9}\n",
        "P_CLASSES = {1: 0.1, 2: 0.5, 3: 0.9}\n",
        "\n",
        "\n",
        "data = df[df.loc[:, 'age'].notna()]\n",
        "prepared_data = prepare_data(data)\n",
        "x_data, y_data = prepared_data[X_COLUMNS].to_numpy(), prepared_data[Y_COLUMNS].to_numpy()\n",
        "x_train, x_test, y_train, y_test = train_test_split(x_data, y_data, train_size=0.9)"
      ],
      "metadata": {
        "id": "6Qw6lhChM2zc"
      },
      "execution_count": 11,
      "outputs": []
    },
    {
      "cell_type": "code",
      "source": [
        "def create_model():\n",
        "    input = Input(len(X_COLUMNS))\n",
        "    layers_values = ((16, relu), \n",
        "                     (256, relu), \n",
        "                     (512, relu),\n",
        "                     (768, relu),\n",
        "                     (768, relu),\n",
        "                     (768, relu),\n",
        "                     (1024, relu),\n",
        "                     (4096, relu),\n",
        "                     (4096, relu),\n",
        "                     (1024, relu),\n",
        "                     (512, relu),\n",
        "                     (256, relu),\n",
        "                     (128, relu),\n",
        "                     (128, relu), \n",
        "                     (56, relu), \n",
        "                     (len(Y_COLUMNS), sigmoid))\n",
        "    last_layer = Dense(layers_values[0][0], layers_values[0][1])(input)\n",
        "    for units, activation in layers_values[1:]:\n",
        "        last_layer = Dense(units, activation)(last_layer)\n",
        "\n",
        "    return Model(input, last_layer)"
      ],
      "metadata": {
        "id": "F9-MiMifki8e"
      },
      "execution_count": 12,
      "outputs": []
    },
    {
      "cell_type": "code",
      "source": [
        "model = create_model()\n",
        "model.compile(optimizer=Adam(0.0001), loss=mse, metrics=[mae])"
      ],
      "metadata": {
        "id": "JKJ8lWUFnfK-"
      },
      "execution_count": 13,
      "outputs": []
    },
    {
      "cell_type": "code",
      "source": [
        "history = model.fit(x_train, y_train, batch_size=6, epochs=50, verbose=1).history"
      ],
      "metadata": {
        "colab": {
          "base_uri": "https://localhost:8080/"
        },
        "id": "76ji_XArn6Az",
        "outputId": "f8c590d4-7c3a-4851-c8fc-59cf55ebeacf"
      },
      "execution_count": 14,
      "outputs": [
        {
          "output_type": "stream",
          "name": "stdout",
          "text": [
            "Epoch 1/50\n",
            "107/107 [==============================] - 5s 23ms/step - loss: 0.0263 - mean_absolute_error: 0.1300\n",
            "Epoch 2/50\n",
            "107/107 [==============================] - 2s 21ms/step - loss: 0.0166 - mean_absolute_error: 0.1040\n",
            "Epoch 3/50\n",
            "107/107 [==============================] - 2s 22ms/step - loss: 0.0166 - mean_absolute_error: 0.1033\n",
            "Epoch 4/50\n",
            "107/107 [==============================] - 2s 22ms/step - loss: 0.0167 - mean_absolute_error: 0.1038\n",
            "Epoch 5/50\n",
            "107/107 [==============================] - 2s 20ms/step - loss: 0.0159 - mean_absolute_error: 0.1012\n",
            "Epoch 6/50\n",
            "107/107 [==============================] - 2s 23ms/step - loss: 0.0169 - mean_absolute_error: 0.1049\n",
            "Epoch 7/50\n",
            "107/107 [==============================] - 2s 21ms/step - loss: 0.0159 - mean_absolute_error: 0.1000\n",
            "Epoch 8/50\n",
            "107/107 [==============================] - 2s 20ms/step - loss: 0.0150 - mean_absolute_error: 0.0984\n",
            "Epoch 9/50\n",
            "107/107 [==============================] - 2s 20ms/step - loss: 0.0150 - mean_absolute_error: 0.0972\n",
            "Epoch 10/50\n",
            "107/107 [==============================] - 2s 21ms/step - loss: 0.0153 - mean_absolute_error: 0.0976\n",
            "Epoch 11/50\n",
            "107/107 [==============================] - 2s 21ms/step - loss: 0.0148 - mean_absolute_error: 0.0963\n",
            "Epoch 12/50\n",
            "107/107 [==============================] - 2s 22ms/step - loss: 0.0149 - mean_absolute_error: 0.0962\n",
            "Epoch 13/50\n",
            "107/107 [==============================] - 2s 22ms/step - loss: 0.0150 - mean_absolute_error: 0.0973\n",
            "Epoch 14/50\n",
            "107/107 [==============================] - 3s 25ms/step - loss: 0.0148 - mean_absolute_error: 0.0963\n",
            "Epoch 15/50\n",
            "107/107 [==============================] - 3s 26ms/step - loss: 0.0159 - mean_absolute_error: 0.0990\n",
            "Epoch 16/50\n",
            "107/107 [==============================] - 3s 25ms/step - loss: 0.0145 - mean_absolute_error: 0.0961\n",
            "Epoch 17/50\n",
            "107/107 [==============================] - 2s 19ms/step - loss: 0.0144 - mean_absolute_error: 0.0942\n",
            "Epoch 18/50\n",
            "107/107 [==============================] - 2s 19ms/step - loss: 0.0141 - mean_absolute_error: 0.0934\n",
            "Epoch 19/50\n",
            "107/107 [==============================] - 2s 19ms/step - loss: 0.0141 - mean_absolute_error: 0.0931\n",
            "Epoch 20/50\n",
            "107/107 [==============================] - 3s 26ms/step - loss: 0.0140 - mean_absolute_error: 0.0930\n",
            "Epoch 21/50\n",
            "107/107 [==============================] - 3s 25ms/step - loss: 0.0142 - mean_absolute_error: 0.0932\n",
            "Epoch 22/50\n",
            "107/107 [==============================] - 3s 23ms/step - loss: 0.0145 - mean_absolute_error: 0.0948\n",
            "Epoch 23/50\n",
            "107/107 [==============================] - 3s 25ms/step - loss: 0.0153 - mean_absolute_error: 0.0967\n",
            "Epoch 24/50\n",
            "107/107 [==============================] - 3s 25ms/step - loss: 0.0143 - mean_absolute_error: 0.0944\n",
            "Epoch 25/50\n",
            "107/107 [==============================] - 3s 24ms/step - loss: 0.0147 - mean_absolute_error: 0.0957\n",
            "Epoch 26/50\n",
            "107/107 [==============================] - 3s 25ms/step - loss: 0.0146 - mean_absolute_error: 0.0952\n",
            "Epoch 27/50\n",
            "107/107 [==============================] - 3s 24ms/step - loss: 0.0138 - mean_absolute_error: 0.0917\n",
            "Epoch 28/50\n",
            "107/107 [==============================] - 3s 26ms/step - loss: 0.0141 - mean_absolute_error: 0.0933\n",
            "Epoch 29/50\n",
            "107/107 [==============================] - 2s 20ms/step - loss: 0.0139 - mean_absolute_error: 0.0920\n",
            "Epoch 30/50\n",
            "107/107 [==============================] - 2s 18ms/step - loss: 0.0145 - mean_absolute_error: 0.0940\n",
            "Epoch 31/50\n",
            "107/107 [==============================] - 2s 17ms/step - loss: 0.0139 - mean_absolute_error: 0.0917\n",
            "Epoch 32/50\n",
            "107/107 [==============================] - 2s 19ms/step - loss: 0.0137 - mean_absolute_error: 0.0908\n",
            "Epoch 33/50\n",
            "107/107 [==============================] - 2s 19ms/step - loss: 0.0135 - mean_absolute_error: 0.0905\n",
            "Epoch 34/50\n",
            "107/107 [==============================] - 2s 17ms/step - loss: 0.0136 - mean_absolute_error: 0.0921\n",
            "Epoch 35/50\n",
            "107/107 [==============================] - 2s 18ms/step - loss: 0.0138 - mean_absolute_error: 0.0925\n",
            "Epoch 36/50\n",
            "107/107 [==============================] - 2s 17ms/step - loss: 0.0135 - mean_absolute_error: 0.0912\n",
            "Epoch 37/50\n",
            "107/107 [==============================] - 2s 18ms/step - loss: 0.0137 - mean_absolute_error: 0.0920\n",
            "Epoch 38/50\n",
            "107/107 [==============================] - 2s 18ms/step - loss: 0.0138 - mean_absolute_error: 0.0910\n",
            "Epoch 39/50\n",
            "107/107 [==============================] - 2s 17ms/step - loss: 0.0142 - mean_absolute_error: 0.0933\n",
            "Epoch 40/50\n",
            "107/107 [==============================] - 2s 17ms/step - loss: 0.0138 - mean_absolute_error: 0.0922\n",
            "Epoch 41/50\n",
            "107/107 [==============================] - 2s 18ms/step - loss: 0.0140 - mean_absolute_error: 0.0924\n",
            "Epoch 42/50\n",
            "107/107 [==============================] - 2s 18ms/step - loss: 0.0136 - mean_absolute_error: 0.0908\n",
            "Epoch 43/50\n",
            "107/107 [==============================] - 2s 17ms/step - loss: 0.0137 - mean_absolute_error: 0.0914\n",
            "Epoch 44/50\n",
            "107/107 [==============================] - 2s 18ms/step - loss: 0.0131 - mean_absolute_error: 0.0894\n",
            "Epoch 45/50\n",
            "107/107 [==============================] - 2s 17ms/step - loss: 0.0139 - mean_absolute_error: 0.0907\n",
            "Epoch 46/50\n",
            "107/107 [==============================] - 2s 17ms/step - loss: 0.0138 - mean_absolute_error: 0.0909\n",
            "Epoch 47/50\n",
            "107/107 [==============================] - 2s 18ms/step - loss: 0.0136 - mean_absolute_error: 0.0911\n",
            "Epoch 48/50\n",
            "107/107 [==============================] - 2s 18ms/step - loss: 0.0133 - mean_absolute_error: 0.0903\n",
            "Epoch 49/50\n",
            "107/107 [==============================] - 2s 17ms/step - loss: 0.0139 - mean_absolute_error: 0.0916\n",
            "Epoch 50/50\n",
            "107/107 [==============================] - 2s 18ms/step - loss: 0.0138 - mean_absolute_error: 0.0908\n"
          ]
        }
      ]
    },
    {
      "cell_type": "code",
      "source": [
        "fig, (losses_ax, metrics_ax) = plt.subplots(1, 2)\n",
        "fig.set_size_inches(20, 5)\n",
        "\n",
        "losses_ax.plot([x * 100 for x in history.get('loss')])\n",
        "losses_ax.set_xlabel('Эпохи')\n",
        "losses_ax.set_ylabel('Потери, %')\n",
        "\n",
        "metrics_ax.plot([(1 - x) * 100 for x in history.get('mean_absolute_error')])\n",
        "metrics_ax.set_xlabel('Эпохи')\n",
        "metrics_ax.set_ylabel('Точность, %')"
      ],
      "metadata": {
        "colab": {
          "base_uri": "https://localhost:8080/",
          "height": 351
        },
        "id": "iOzgj7zKsR03",
        "outputId": "c22ba922-5e6b-47a0-97e7-d3e7ff01afc3"
      },
      "execution_count": 16,
      "outputs": [
        {
          "output_type": "execute_result",
          "data": {
            "text/plain": [
              "Text(0, 0.5, 'Точность, %')"
            ]
          },
          "metadata": {},
          "execution_count": 16
        },
        {
          "output_type": "display_data",
          "data": {
            "image/png": "[encoded data removed]",
            "text/plain": [
              "<Figure size 1440x360 with 2 Axes>"
            ]
          },
          "metadata": {
            "needs_background": "light"
          }
        }
      ]
    },
    {
      "cell_type": "code",
      "source": [
        "fig, ax = plt.subplots(1, 1)\n",
        "fig.set_size_inches(10, 5)\n",
        "\n",
        "predicts = model.predict(x_test)\n",
        "\n",
        "[ax.axvline(x, color='#ccc') for x in range(len(predicts))]\n",
        "ax.plot(predicts / AGE_NORMALIZER, label='Предсказание', linewidth=0, markersize=6, marker='o')\n",
        "ax.plot(y_test / AGE_NORMALIZER, label='Реальный возраст', linewidth=0, markersize=4, marker='o')\n",
        "\n",
        "ax.plot\n",
        "ax.set_xlabel('Люди')\n",
        "ax.set_ylabel('Возраст')\n",
        "ax.legend()"
      ],
      "metadata": {
        "colab": {
          "base_uri": "https://localhost:8080/",
          "height": 351
        },
        "id": "-pPYyQYv2N86",
        "outputId": "d2c9379c-8b18-4121-e7ae-f77e1c68c2c2"
      },
      "execution_count": 20,
      "outputs": [
        {
          "output_type": "execute_result",
          "data": {
            "text/plain": [
              "<matplotlib.legend.Legend at 0x7f59846a3390>"
            ]
          },
          "metadata": {},
          "execution_count": 20
        },
        {
          "output_type": "display_data",
          "data": {
            "image/png": "[encoded data removed]",
            "text/plain": [
              "<Figure size 720x360 with 1 Axes>"
            ]
          },
          "metadata": {
            "needs_background": "light"
          }
        }
      ]
    }
  ]
}