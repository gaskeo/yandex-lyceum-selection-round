{
 "nbformat": 4,
 "nbformat_minor": 0,
 "metadata": {
  "colab": {
   "name": "yandex-lyceum-selection-round.ipynb",
   "provenance": [],
   "collapsed_sections": [],
   "toc_visible": true,
   "authorship_tag": "ABX9TyO0F7wE1Xtr9xc2aPBUuPw4"
  },
  "kernelspec": {
   "name": "python3",
   "display_name": "Python 3"
  },
  "language_info": {
   "name": "python"
  }
 },
 "cells": [
  {
   "cell_type": "markdown",
   "source": [
    "# Решение"
   ],
   "metadata": {
    "id": "W02_CY8HmbPF"
   }
  },
  {
   "cell_type": "markdown",
   "source": [
    "## 1. Скачать файл по ссылке"
   ],
   "metadata": {
    "id": "FlmEgYwamey5"
   }
  },
  {
   "cell_type": "code",
   "source": [
    "!wget 'https://raw.githubusercontent.com/mwaskom/seaborn-data/master/titanic.csv' 'titanic.csv'"
   ],
   "metadata": {
    "colab": {
     "base_uri": "https://localhost:8080/"
    },
    "id": "ZWr2A3U-meQH",
    "outputId": "88f08ced-837d-44e6-b434-16c52dca5d67"
   },
   "execution_count": 1,
   "outputs": [
    {
     "output_type": "stream",
     "name": "stdout",
     "text": [
      "--2022-02-10 12:29:38--  https://raw.githubusercontent.com/mwaskom/seaborn-data/master/titanic.csv\n",
      "Resolving raw.githubusercontent.com (raw.githubusercontent.com)... 185.199.108.133, 185.199.111.133, 185.199.110.133, ...\n",
      "Connecting to raw.githubusercontent.com (raw.githubusercontent.com)|185.199.108.133|:443... connected.\n",
      "HTTP request sent, awaiting response... 200 OK\n",
      "Length: 57018 (56K) [text/plain]\n",
      "Saving to: ‘titanic.csv’\n",
      "\n",
      "\rtitanic.csv           0%[                    ]       0  --.-KB/s               \rtitanic.csv         100%[===================>]  55.68K  --.-KB/s    in 0.01s   \n",
      "\n",
      "2022-02-10 12:29:38 (5.08 MB/s) - ‘titanic.csv’ saved [57018/57018]\n",
      "\n",
      "--2022-02-10 12:29:38--  http://titanic.csv/\n",
      "Resolving titanic.csv (titanic.csv)... failed: Name or service not known.\n",
      "wget: unable to resolve host address ‘titanic.csv’\n",
      "FINISHED --2022-02-10 12:29:38--\n",
      "Total wall clock time: 0.2s\n",
      "Downloaded: 1 files, 56K in 0.01s (5.08 MB/s)\n"
     ]
    }
   ]
  },
  {
   "cell_type": "markdown",
   "source": [
    "## Изучение данных"
   ],
   "metadata": {
    "id": "5I9xQAoeqw1S"
   }
  },
  {
   "cell_type": "code",
   "source": [
    "import pandas as pd"
   ],
   "metadata": {
    "id": "QT8aaifpqtiG"
   },
   "execution_count": 2,
   "outputs": []
  },
  {
   "cell_type": "code",
   "source": [
    "df = pd.read_csv('/content/titanic.csv')"
   ],
   "metadata": {
    "id": "FSqZKOpkq5pI"
   },
   "execution_count": 135,
   "outputs": []
  },
  {
   "cell_type": "code",
   "source": [
    "df.info()"
   ],
   "metadata": {
    "colab": {
     "base_uri": "https://localhost:8080/"
    },
    "id": "c58iAUSjrChW",
    "outputId": "399cf36b-b3c9-4929-eacb-feb8829d5127"
   },
   "execution_count": 136,
   "outputs": [
    {
     "output_type": "stream",
     "name": "stdout",
     "text": [
      "<class 'pandas.core.frame.DataFrame'>\n",
      "RangeIndex: 891 entries, 0 to 890\n",
      "Data columns (total 15 columns):\n",
      " #   Column       Non-Null Count  Dtype  \n",
      "---  ------       --------------  -----  \n",
      " 0   survived     891 non-null    int64  \n",
      " 1   pclass       891 non-null    int64  \n",
      " 2   sex          891 non-null    object \n",
      " 3   age          714 non-null    float64\n",
      " 4   sibsp        891 non-null    int64  \n",
      " 5   parch        891 non-null    int64  \n",
      " 6   fare         891 non-null    float64\n",
      " 7   embarked     889 non-null    object \n",
      " 8   class        891 non-null    object \n",
      " 9   who          891 non-null    object \n",
      " 10  adult_male   891 non-null    bool   \n",
      " 11  deck         203 non-null    object \n",
      " 12  embark_town  889 non-null    object \n",
      " 13  alive        891 non-null    object \n",
      " 14  alone        891 non-null    bool   \n",
      "dtypes: bool(2), float64(2), int64(4), object(7)\n",
      "memory usage: 92.4+ KB\n"
     ]
    }
   ]
  },
  {
   "cell_type": "markdown",
   "source": [
    "### Пропуски:\n",
    "* возраст (age, 177 пропусков)\n",
    "* порт посадки (embarked, 2 пропуска)\n",
    "* палуба (deck, 688 пропусков)\n",
    "* город посадки (embark_town, 2 пропуска)\n",
    "\n",
    "### Заполениние пропусков\n",
    "#### Возраст \n",
    "Принято решение написать небольшую модель, обучить ее на заполненных данных и предугадать примерный возраст в пропущенных ячейках. \n",
    "\n",
    "#### Порт посадки \n",
    "Все пропуски = U (unknown).\n",
    "\n",
    "#### Палуба\n",
    "Для определения палубы будет написана другая модель, но ориентироваться на результаты ее работы я не буду, так как тренировочная выборка слишком мала (203 элемента).\n",
    "\n",
    "#### Город посадки\n",
    "Все пропуски = Unknown."
   ],
   "metadata": {
    "id": "pI1xhv4GrIaM"
   }
  },
  {
   "cell_type": "markdown",
   "source": [
    "#### Пропуски посадки"
   ],
   "metadata": {
    "id": "xj_eZw4xLOMi"
   }
  },
  {
   "cell_type": "code",
   "source": [
    "def fill_na_embark(data_frame: pd.core.frame.DataFrame) -> pd.core.frame.DataFrame: \n",
    "    data_frame['embarked'] = data_frame['embarked'].fillna('U')\n",
    "    data_frame['embark_town'] = data_frame['embark_town'].fillna('Unknown')\n",
    "\n",
    "    return data_frame"
   ],
   "metadata": {
    "id": "YzvqgLyowsSe"
   },
   "execution_count": 137,
   "outputs": []
  },
  {
   "cell_type": "code",
   "source": [
    "def for_print_embark(data_frame: pd.core.frame.DataFrame, column_offset=4) -> pd.core.frame.DataFrame:\n",
    "    for_print = [('Порты:', 'Города:')]\n",
    "    max_len_port = len(for_print[0][0])\n",
    "    output_str = ''\n",
    "\n",
    "    unique_ports, unique_towns = df['embarked'].unique(), df['embark_town'].unique()\n",
    "    \n",
    "    for index in range(max(len(unique_ports), len(unique_towns))):\n",
    "        temp_port = unique_ports[index] if index < len(unique_ports) else ''\n",
    "        temp_town = unique_towns[index] if index < len(unique_towns) else ''\n",
    "\n",
    "        max_len_port = max(max_len_port, len(temp_port))\n",
    "\n",
    "        for_print.append((temp_port, temp_town))\n",
    "\n",
    "    for port, town in for_print: \n",
    "        output_str += f'{port}{\" \" * (max_len_port + column_offset - len(port))}{town}\\n'\n",
    "\n",
    "    return output_str"
   ],
   "metadata": {
    "id": "W8Us5STAJlPI"
   },
   "execution_count": 138,
   "outputs": []
  },
  {
   "cell_type": "code",
   "source": [
    "df = fill_na_embark(df)\n",
    "print(for_print_embark(df))"
   ],
   "metadata": {
    "colab": {
     "base_uri": "https://localhost:8080/"
    },
    "id": "_26PE-Zh633A",
    "outputId": "98c0fa8d-2ef9-4d4c-8ef9-7686dbed9110"
   },
   "execution_count": 139,
   "outputs": [
    {
     "output_type": "stream",
     "name": "stdout",
     "text": [
      "Порты:    Города:\n",
      "S         Southampton\n",
      "C         Cherbourg\n",
      "Q         Queenstown\n",
      "U         Unknown\n",
      "\n"
     ]
    }
   ]
  },
  {
   "cell_type": "markdown",
   "source": [
    "#### Пропуски возраста"
   ],
   "metadata": {
    "id": "ckswBfxILhOS"
   }
  },
  {
   "cell_type": "code",
   "source": [
    "from tensorflow.keras.models import Model\n",
    "from tensorflow.keras.layers import Dense\n",
    "\n",
    "from tensorflow.keras.optimizers import Adam\n",
    "\n",
    "from tensorflow.keras.losses import mae\n",
    "from tensorflow.keras.metrics import mse"
   ],
   "metadata": {
    "id": "AHhu8-gKLgTW"
   },
   "execution_count": 140,
   "outputs": []
  },
  {
   "cell_type": "code",
   "source": [
    "def prepare_data(data_frame): \n",
    "    print('----')\n",
    "    data_frame_copy = data_frame.copy()\n",
    "    data_frame_copy['sex'] = data_frame_copy['sex'].apply(lambda sex: int(sex == 'female'))\n",
    "    data_frame_copy['fare'] *= FARE_NORMALIZER\n",
    "    data_frame_copy['sibsp'] *= SIBSP_NORMALIZER\n",
    "    data_frame_copy['parch'] *= PARCH_NORMALIZER\n",
    "    data_frame_copy['class'] = data_frame_copy['class'].apply(lambda cls: CLASSES[cls])\n",
    "    data_frame_copy['alive'] = data_frame_copy['alive'].apply(lambda alive: int(alive == 'yes'))\n",
    "    data_frame_copy['alone'] = data_frame_copy['alone'].apply(int)\n",
    "    \n",
    "    data_frame_copy['age'] *= AGE_NORMALIZER\n",
    "\n",
    "    return data_frame_copy"
   ],
   "metadata": {
    "id": "jW0OqdyZP6Zc"
   },
   "execution_count": 170,
   "outputs": []
  },
  {
   "cell_type": "code",
   "source": [
    "X_COLUMNS = ['pclass', 'sex', 'sibsp', 'parch', 'fare', 'class', 'alive', 'alone']\n",
    "Y_COLUMNS = ['age']\n",
    "AGE_NORMALIZER = 0.01\n",
    "FARE_NORMALIZER = 0.001\n",
    "SIBSP_NORMALIZER = 0.1\n",
    "PARCH_NORMALIZER = 0.1\n",
    "CLASSES = {'First': 0.1, 'Second': 0.4, 'Third': 0.7}\n",
    "\n",
    "\n",
    "data = df[df.loc[:, 'age'].notna()]\n",
    "prepare_data(data)"
   ],
   "metadata": {
    "colab": {
     "base_uri": "https://localhost:8080/",
     "height": 441
    },
    "id": "6Qw6lhChM2zc",
    "outputId": "c1e2c2d9-7460-462f-809b-a79a9998006e"
   },
   "execution_count": 171,
   "outputs": [
    {
     "output_type": "stream",
     "name": "stdout",
     "text": [
      "----\n"
     ]
    },
    {
     "output_type": "execute_result",
     "data": {
      "text/html": [
       "\n",
       "  <div id=\"df-ccb5fb31-0c10-4c17-9914-decfdb80bc78\">\n",
       "    <div class=\"colab-df-container\">\n",
       "      <div>\n",
       "<style scoped>\n",
       "    .dataframe tbody tr th:only-of-type {\n",
       "        vertical-align: middle;\n",
       "    }\n",
       "\n",
       "    .dataframe tbody tr th {\n",
       "        vertical-align: top;\n",
       "    }\n",
       "\n",
       "    .dataframe thead th {\n",
       "        text-align: right;\n",
       "    }\n",
       "</style>\n",
       "<table border=\"1\" class=\"dataframe\">\n",
       "  <thead>\n",
       "    <tr style=\"text-align: right;\">\n",
       "      <th></th>\n",
       "      <th>survived</th>\n",
       "      <th>pclass</th>\n",
       "      <th>sex</th>\n",
       "      <th>age</th>\n",
       "      <th>sibsp</th>\n",
       "      <th>parch</th>\n",
       "      <th>fare</th>\n",
       "      <th>embarked</th>\n",
       "      <th>class</th>\n",
       "      <th>who</th>\n",
       "      <th>adult_male</th>\n",
       "      <th>deck</th>\n",
       "      <th>embark_town</th>\n",
       "      <th>alive</th>\n",
       "      <th>alone</th>\n",
       "    </tr>\n",
       "  </thead>\n",
       "  <tbody>\n",
       "    <tr>\n",
       "      <th>0</th>\n",
       "      <td>0</td>\n",
       "      <td>3</td>\n",
       "      <td>0</td>\n",
       "      <td>0.22</td>\n",
       "      <td>0.1</td>\n",
       "      <td>0.0</td>\n",
       "      <td>0.007250</td>\n",
       "      <td>S</td>\n",
       "      <td>0.7</td>\n",
       "      <td>man</td>\n",
       "      <td>True</td>\n",
       "      <td>NaN</td>\n",
       "      <td>Southampton</td>\n",
       "      <td>0</td>\n",
       "      <td>0</td>\n",
       "    </tr>\n",
       "    <tr>\n",
       "      <th>1</th>\n",
       "      <td>1</td>\n",
       "      <td>1</td>\n",
       "      <td>1</td>\n",
       "      <td>0.38</td>\n",
       "      <td>0.1</td>\n",
       "      <td>0.0</td>\n",
       "      <td>0.071283</td>\n",
       "      <td>C</td>\n",
       "      <td>0.1</td>\n",
       "      <td>woman</td>\n",
       "      <td>False</td>\n",
       "      <td>C</td>\n",
       "      <td>Cherbourg</td>\n",
       "      <td>1</td>\n",
       "      <td>0</td>\n",
       "    </tr>\n",
       "    <tr>\n",
       "      <th>2</th>\n",
       "      <td>1</td>\n",
       "      <td>3</td>\n",
       "      <td>1</td>\n",
       "      <td>0.26</td>\n",
       "      <td>0.0</td>\n",
       "      <td>0.0</td>\n",
       "      <td>0.007925</td>\n",
       "      <td>S</td>\n",
       "      <td>0.7</td>\n",
       "      <td>woman</td>\n",
       "      <td>False</td>\n",
       "      <td>NaN</td>\n",
       "      <td>Southampton</td>\n",
       "      <td>1</td>\n",
       "      <td>1</td>\n",
       "    </tr>\n",
       "    <tr>\n",
       "      <th>3</th>\n",
       "      <td>1</td>\n",
       "      <td>1</td>\n",
       "      <td>1</td>\n",
       "      <td>0.35</td>\n",
       "      <td>0.1</td>\n",
       "      <td>0.0</td>\n",
       "      <td>0.053100</td>\n",
       "      <td>S</td>\n",
       "      <td>0.1</td>\n",
       "      <td>woman</td>\n",
       "      <td>False</td>\n",
       "      <td>C</td>\n",
       "      <td>Southampton</td>\n",
       "      <td>1</td>\n",
       "      <td>0</td>\n",
       "    </tr>\n",
       "    <tr>\n",
       "      <th>4</th>\n",
       "      <td>0</td>\n",
       "      <td>3</td>\n",
       "      <td>0</td>\n",
       "      <td>0.35</td>\n",
       "      <td>0.0</td>\n",
       "      <td>0.0</td>\n",
       "      <td>0.008050</td>\n",
       "      <td>S</td>\n",
       "      <td>0.7</td>\n",
       "      <td>man</td>\n",
       "      <td>True</td>\n",
       "      <td>NaN</td>\n",
       "      <td>Southampton</td>\n",
       "      <td>0</td>\n",
       "      <td>1</td>\n",
       "    </tr>\n",
       "    <tr>\n",
       "      <th>...</th>\n",
       "      <td>...</td>\n",
       "      <td>...</td>\n",
       "      <td>...</td>\n",
       "      <td>...</td>\n",
       "      <td>...</td>\n",
       "      <td>...</td>\n",
       "      <td>...</td>\n",
       "      <td>...</td>\n",
       "      <td>...</td>\n",
       "      <td>...</td>\n",
       "      <td>...</td>\n",
       "      <td>...</td>\n",
       "      <td>...</td>\n",
       "      <td>...</td>\n",
       "      <td>...</td>\n",
       "    </tr>\n",
       "    <tr>\n",
       "      <th>885</th>\n",
       "      <td>0</td>\n",
       "      <td>3</td>\n",
       "      <td>1</td>\n",
       "      <td>0.39</td>\n",
       "      <td>0.0</td>\n",
       "      <td>0.5</td>\n",
       "      <td>0.029125</td>\n",
       "      <td>Q</td>\n",
       "      <td>0.7</td>\n",
       "      <td>woman</td>\n",
       "      <td>False</td>\n",
       "      <td>NaN</td>\n",
       "      <td>Queenstown</td>\n",
       "      <td>0</td>\n",
       "      <td>0</td>\n",
       "    </tr>\n",
       "    <tr>\n",
       "      <th>886</th>\n",
       "      <td>0</td>\n",
       "      <td>2</td>\n",
       "      <td>0</td>\n",
       "      <td>0.27</td>\n",
       "      <td>0.0</td>\n",
       "      <td>0.0</td>\n",
       "      <td>0.013000</td>\n",
       "      <td>S</td>\n",
       "      <td>0.4</td>\n",
       "      <td>man</td>\n",
       "      <td>True</td>\n",
       "      <td>NaN</td>\n",
       "      <td>Southampton</td>\n",
       "      <td>0</td>\n",
       "      <td>1</td>\n",
       "    </tr>\n",
       "    <tr>\n",
       "      <th>887</th>\n",
       "      <td>1</td>\n",
       "      <td>1</td>\n",
       "      <td>1</td>\n",
       "      <td>0.19</td>\n",
       "      <td>0.0</td>\n",
       "      <td>0.0</td>\n",
       "      <td>0.030000</td>\n",
       "      <td>S</td>\n",
       "      <td>0.1</td>\n",
       "      <td>woman</td>\n",
       "      <td>False</td>\n",
       "      <td>B</td>\n",
       "      <td>Southampton</td>\n",
       "      <td>1</td>\n",
       "      <td>1</td>\n",
       "    </tr>\n",
       "    <tr>\n",
       "      <th>889</th>\n",
       "      <td>1</td>\n",
       "      <td>1</td>\n",
       "      <td>0</td>\n",
       "      <td>0.26</td>\n",
       "      <td>0.0</td>\n",
       "      <td>0.0</td>\n",
       "      <td>0.030000</td>\n",
       "      <td>C</td>\n",
       "      <td>0.1</td>\n",
       "      <td>man</td>\n",
       "      <td>True</td>\n",
       "      <td>C</td>\n",
       "      <td>Cherbourg</td>\n",
       "      <td>1</td>\n",
       "      <td>1</td>\n",
       "    </tr>\n",
       "    <tr>\n",
       "      <th>890</th>\n",
       "      <td>0</td>\n",
       "      <td>3</td>\n",
       "      <td>0</td>\n",
       "      <td>0.32</td>\n",
       "      <td>0.0</td>\n",
       "      <td>0.0</td>\n",
       "      <td>0.007750</td>\n",
       "      <td>Q</td>\n",
       "      <td>0.7</td>\n",
       "      <td>man</td>\n",
       "      <td>True</td>\n",
       "      <td>NaN</td>\n",
       "      <td>Queenstown</td>\n",
       "      <td>0</td>\n",
       "      <td>1</td>\n",
       "    </tr>\n",
       "  </tbody>\n",
       "</table>\n",
       "<p>714 rows × 15 columns</p>\n",
       "</div>\n",
       "      <button class=\"colab-df-convert\" onclick=\"convertToInteractive('df-ccb5fb31-0c10-4c17-9914-decfdb80bc78')\"\n",
       "              title=\"Convert this dataframe to an interactive table.\"\n",
       "              style=\"display:none;\">\n",
       "        \n",
       "  <svg xmlns=\"http://www.w3.org/2000/svg\" height=\"24px\"viewBox=\"0 0 24 24\"\n",
       "       width=\"24px\">\n",
       "    <path d=\"M0 0h24v24H0V0z\" fill=\"none\"/>\n",
       "    <path d=\"M18.56 5.44l.94 2.06.94-2.06 2.06-.94-2.06-.94-.94-2.06-.94 2.06-2.06.94zm-11 1L8.5 8.5l.94-2.06 2.06-.94-2.06-.94L8.5 2.5l-.94 2.06-2.06.94zm10 10l.94 2.06.94-2.06 2.06-.94-2.06-.94-.94-2.06-.94 2.06-2.06.94z\"/><path d=\"M17.41 7.96l-1.37-1.37c-.4-.4-.92-.59-1.43-.59-.52 0-1.04.2-1.43.59L10.3 9.45l-7.72 7.72c-.78.78-.78 2.05 0 2.83L4 21.41c.39.39.9.59 1.41.59.51 0 1.02-.2 1.41-.59l7.78-7.78 2.81-2.81c.8-.78.8-2.07 0-2.86zM5.41 20L4 18.59l7.72-7.72 1.47 1.35L5.41 20z\"/>\n",
       "  </svg>\n",
       "      </button>\n",
       "      \n",
       "  <style>\n",
       "    .colab-df-container {\n",
       "      display:flex;\n",
       "      flex-wrap:wrap;\n",
       "      gap: 12px;\n",
       "    }\n",
       "\n",
       "    .colab-df-convert {\n",
       "      background-color: #E8F0FE;\n",
       "      border: none;\n",
       "      border-radius: 50%;\n",
       "      cursor: pointer;\n",
       "      display: none;\n",
       "      fill: #1967D2;\n",
       "      height: 32px;\n",
       "      padding: 0 0 0 0;\n",
       "      width: 32px;\n",
       "    }\n",
       "\n",
       "    .colab-df-convert:hover {\n",
       "      background-color: #E2EBFA;\n",
       "      box-shadow: 0px 1px 2px rgba(60, 64, 67, 0.3), 0px 1px 3px 1px rgba(60, 64, 67, 0.15);\n",
       "      fill: #174EA6;\n",
       "    }\n",
       "\n",
       "    [theme=dark] .colab-df-convert {\n",
       "      background-color: #3B4455;\n",
       "      fill: #D2E3FC;\n",
       "    }\n",
       "\n",
       "    [theme=dark] .colab-df-convert:hover {\n",
       "      background-color: #434B5C;\n",
       "      box-shadow: 0px 1px 3px 1px rgba(0, 0, 0, 0.15);\n",
       "      filter: drop-shadow(0px 1px 2px rgba(0, 0, 0, 0.3));\n",
       "      fill: #FFFFFF;\n",
       "    }\n",
       "  </style>\n",
       "\n",
       "      <script>\n",
       "        const buttonEl =\n",
       "          document.querySelector('#df-ccb5fb31-0c10-4c17-9914-decfdb80bc78 button.colab-df-convert');\n",
       "        buttonEl.style.display =\n",
       "          google.colab.kernel.accessAllowed ? 'block' : 'none';\n",
       "\n",
       "        async function convertToInteractive(key) {\n",
       "          const element = document.querySelector('#df-ccb5fb31-0c10-4c17-9914-decfdb80bc78');\n",
       "          const dataTable =\n",
       "            await google.colab.kernel.invokeFunction('convertToInteractive',\n",
       "                                                     [key], {});\n",
       "          if (!dataTable) return;\n",
       "\n",
       "          const docLinkHtml = 'Like what you see? Visit the ' +\n",
       "            '<a target=\"_blank\" href=https://colab.research.google.com/notebooks/data_table.ipynb>data table notebook</a>'\n",
       "            + ' to learn more about interactive tables.';\n",
       "          element.innerHTML = '';\n",
       "          dataTable['output_type'] = 'display_data';\n",
       "          await google.colab.output.renderOutput(dataTable, element);\n",
       "          const docLink = document.createElement('div');\n",
       "          docLink.innerHTML = docLinkHtml;\n",
       "          element.appendChild(docLink);\n",
       "        }\n",
       "      </script>\n",
       "    </div>\n",
       "  </div>\n",
       "  "
      ],
      "text/plain": [
       "     survived  pclass  sex   age  ...  deck  embark_town  alive alone\n",
       "0           0       3    0  0.22  ...   NaN  Southampton      0     0\n",
       "1           1       1    1  0.38  ...     C    Cherbourg      1     0\n",
       "2           1       3    1  0.26  ...   NaN  Southampton      1     1\n",
       "3           1       1    1  0.35  ...     C  Southampton      1     0\n",
       "4           0       3    0  0.35  ...   NaN  Southampton      0     1\n",
       "..        ...     ...  ...   ...  ...   ...          ...    ...   ...\n",
       "885         0       3    1  0.39  ...   NaN   Queenstown      0     0\n",
       "886         0       2    0  0.27  ...   NaN  Southampton      0     1\n",
       "887         1       1    1  0.19  ...     B  Southampton      1     1\n",
       "889         1       1    0  0.26  ...     C    Cherbourg      1     1\n",
       "890         0       3    0  0.32  ...   NaN   Queenstown      0     1\n",
       "\n",
       "[714 rows x 15 columns]"
      ]
     },
     "metadata": {},
     "execution_count": 171
    }
   ]
  }
 ]
}